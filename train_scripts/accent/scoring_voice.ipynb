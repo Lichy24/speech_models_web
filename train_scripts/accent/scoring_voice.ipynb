{
  "nbformat": 4,
  "nbformat_minor": 0,
  "metadata": {
    "colab": {
      "name": "scoring_voice.ipynb",
      "provenance": [],
      "collapsed_sections": []
    },
    "kernelspec": {
      "name": "python3",
      "display_name": "Python 3"
    },
    "language_info": {
      "name": "python"
    },
    "accelerator": "GPU"
  },
  "cells": [
    {
      "cell_type": "code",
      "execution_count": null,
      "metadata": {
        "colab": {
          "base_uri": "https://localhost:8080/"
        },
        "id": "2SOTpLF5XoMt",
        "outputId": "1009a2d5-a8dc-4590-c299-8ce6f01e59f7"
      },
      "outputs": [
        {
          "output_type": "stream",
          "name": "stdout",
          "text": [
            "Mounted at /content/drive\n"
          ]
        }
      ],
      "source": [
        "import pandas as pd\n",
        "import pickle\n",
        "from torch import nn\n",
        "import torch\n",
        "\n",
        "from google.colab import drive\n",
        "drive.mount('/content/drive')\n",
        "import matplotlib.pyplot as plt\n",
        "import torchaudio\n",
        "import os\n",
        "\n",
        "# Scores and reports\n",
        "from sklearn.model_selection import cross_val_score\n",
        "from sklearn.metrics import confusion_matrix, classification_report, roc_auc_score, plot_roc_curve\n"
      ]
    },
    {
      "cell_type": "code",
      "source": [
        "import numpy as np\n",
        "import seaborn as sns"
      ],
      "metadata": {
        "id": "3Z0goapdfQHT"
      },
      "execution_count": null,
      "outputs": []
    },
    {
      "cell_type": "code",
      "source": [
        "device = torch.device(\"cuda\" if torch.cuda.is_available() else \"cpu\")"
      ],
      "metadata": {
        "id": "yRcqPLGRawY4"
      },
      "execution_count": null,
      "outputs": []
    },
    {
      "cell_type": "code",
      "source": [
        "\n",
        "DROP_OUT = 0.5\n",
        "\n",
        "\n",
        "\n",
        "class Convolutional_Speaker_Identification(nn.Module):\n",
        "\n",
        "    # def cal_paddind_shape(self, new_shape, old_shape, kernel_size, stride_size):\n",
        "    #     return (stride_size * (new_shape - 1) + kernel_size - old_shape) / 2\n",
        "\n",
        "    def __init__(self):\n",
        "\n",
        "        super().__init__()\n",
        "\n",
        "        self.conv_2d_1 = nn.Conv2d(1, 96, kernel_size=(3, 3), stride=(1, 1), padding=1)\n",
        "        self.bn_1 = nn.BatchNorm2d(96)\n",
        "        self.max_pool_2d_1 = nn.MaxPool2d(kernel_size=(3, 3), stride=(1, 1))\n",
        "\n",
        "        self.conv_2d_2 = nn.Conv2d(96, 256, kernel_size=(3, 3), stride=(2, 2), padding=1)\n",
        "        self.bn_2 = nn.BatchNorm2d(256)\n",
        "        self.max_pool_2d_2 = nn.MaxPool2d(kernel_size=(3, 3), stride=(2, 2))\n",
        "\n",
        "        self.conv_2d_3 = nn.Conv2d(256, 384, kernel_size=(3, 3), padding=1)\n",
        "        self.bn_3 = nn.BatchNorm2d(384)\n",
        "\n",
        "        self.conv_2d_4 = nn.Conv2d(384, 256, kernel_size=(3, 3), padding=1)\n",
        "        self.bn_4 = nn.BatchNorm2d(256)\n",
        "\n",
        "        self.conv_2d_5 = nn.Conv2d(256, 256, kernel_size=(3, 3), padding=1)\n",
        "        self.bn_5 = nn.BatchNorm2d(256)\n",
        "        self.max_pool_2d_3 = nn.MaxPool2d(kernel_size=(5, 3), stride=(3, 2))\n",
        "\n",
        "        self.conv_2d_6 = nn.Conv2d(256, 4096, kernel_size=(9, 1), padding=0)\n",
        "        self.drop_1 = nn.Dropout(p=DROP_OUT)\n",
        "\n",
        "        self.global_avg_pooling_2d = nn.AdaptiveAvgPool2d((1, 1))\n",
        "        self.dense_1 = nn.Linear(4096, 1024)\n",
        "        self.drop_2 = nn.Dropout(p=DROP_OUT)\n",
        "\n",
        "        self.dense_2 = nn.Linear(1024, 3)\n",
        "\n",
        "    def forward(self, X):\n",
        "\n",
        "        x = nn.ReLU()(self.conv_2d_1(X))\n",
        "        x = self.bn_1(x)\n",
        "        x = self.max_pool_2d_1(x)\n",
        "\n",
        "        x = nn.ReLU()(self.conv_2d_2(x))\n",
        "        x = self.bn_2(x)\n",
        "        x = self.max_pool_2d_2(x)\n",
        "\n",
        "        x = nn.ReLU()(self.conv_2d_3(x))\n",
        "        x = self.bn_3(x)\n",
        "\n",
        "        x = nn.ReLU()(self.conv_2d_4(x))\n",
        "        x = self.bn_4(x)\n",
        "\n",
        "        x = nn.ReLU()(self.conv_2d_5(x))\n",
        "        x = self.bn_5(x)\n",
        "        x = self.max_pool_2d_3(x)\n",
        "\n",
        "        x = nn.ReLU()(self.conv_2d_6(x))\n",
        "        x = self.drop_1(x)\n",
        "        x = self.global_avg_pooling_2d(x)\n",
        "\n",
        "        x = x.view(-1, x.shape[1])  # output channel for flatten before entering the dense layer\n",
        "        x = nn.ReLU()(self.dense_1(x))\n",
        "        x = self.drop_2(x)\n",
        "\n",
        "        x = self.dense_2(x)\n",
        "        y = nn.LogSoftmax(dim=1)(x)   # consider using Log-Softmax\n",
        "\n",
        "        return y\n",
        "\n",
        "    def get_epochs(self):\n",
        "        return 20\n",
        "\n",
        "    def get_learning_rate(self):\n",
        "        return 0.000005\n",
        "\n",
        "    def get_batch_size(self):\n",
        "        return 16\n",
        "\n",
        "    def to_string(self):\n",
        "        return \"Convolutional_Speaker_Identification_Log_Softmax_Model-epoch_\""
      ],
      "metadata": {
        "id": "ArDX-R-6Z4Qf"
      },
      "execution_count": null,
      "outputs": []
    },
    {
      "cell_type": "markdown",
      "source": [
        "# Load x and y:"
      ],
      "metadata": {
        "id": "bDHsaWaEHwJg"
      }
    },
    {
      "cell_type": "code",
      "source": [
        "def load_x(llen):\n",
        "\n",
        "  x_to_add1 = open(\"/content/drive/MyDrive/voice/\"+llen+\"_x_test.pickle\",\"rb\")\n",
        "  x_test = pickle.load(x_to_add1)\n",
        "  x_to_add1.close()\n",
        "\n",
        "  my_tensor = torch.cat(x_test)\n",
        "  my_tensor = torch.unsqueeze(my_tensor, 1)\n",
        "\n",
        "  return my_tensor\n",
        "\n",
        "\n",
        "\n",
        "\n",
        "def load_y(llen, lan_dict):\n",
        "\n",
        "  pickle_in_y1 = open(\"/content/drive/MyDrive/voice/\"+llen+\"_y_test.pickle\",\"rb\")\n",
        "  y_test = pickle.load(pickle_in_y1)\n",
        "  pickle_in_y1.close()\n",
        "\n",
        "  temp_dickt = lan_dict \n",
        "\n",
        "  y_test_num = torch.FloatTensor([temp_dickt[x] for x in y_test])\n",
        "  print(temp_dickt)\n",
        "  return y_test_num\n",
        "\n",
        "\n",
        "\n",
        "\n",
        "\n",
        "\n"
      ],
      "metadata": {
        "id": "SaGXzjU-byZS"
      },
      "execution_count": null,
      "outputs": []
    },
    {
      "cell_type": "markdown",
      "source": [
        "# English scoring: 66 %"
      ],
      "metadata": {
        "id": "XbuxNu2y2Jfk"
      }
    },
    {
      "cell_type": "code",
      "source": [
        "# Test accuracy score: 62.84 % with 2 more liars\n",
        "lan = 'en';\n",
        "lan_dict = {'us_en': 0, 'england_en': 1, 'canada_en': 2}\n",
        "model = Convolutional_Speaker_Identification().to(device)\n",
        "model.load_state_dict(torch.load(\"/content/drive/MyDrive/voice/models/\"+lan+\"stat0.pth\"))\n",
        "model.eval()\n",
        "x = load_x(lan)\n",
        "y = load_y(lan, lan_dict)\n",
        "\n",
        "\n",
        "print()\n",
        "\n",
        "y_p = np.argmax(model(x.to(device)).to(\"cpu\").detach().numpy(), axis =1)\n",
        "y_true = np.array(y, dtype= int)\n",
        "\n",
        "acc = np.mean(np.array(y_p == y_true, dtype= int))\n",
        "print(lan + \" Test accuracy score:\", round(acc*100,2) , \"%\")\n",
        "\n",
        "print(' Classification Report')\n",
        "print(classification_report(y_true, y_p))\n",
        "\n",
        "cm = confusion_matrix(y_true, y_p)\n",
        "plt.subplots()\n",
        "sns.heatmap(cm,fmt=\".0f\", annot=True)\n",
        "plt.xlabel(\"Predict\")\n",
        "plt.ylabel(\"Test\")\n",
        "plt.show()\n",
        "\n"
      ],
      "metadata": {
        "colab": {
          "base_uri": "https://localhost:8080/",
          "height": 517
        },
        "id": "vIREtvlVYqp7",
        "outputId": "7f8384e9-7c99-4ca0-e294-dc5b664c05b1"
      },
      "execution_count": null,
      "outputs": [
        {
          "output_type": "stream",
          "name": "stdout",
          "text": [
            "{'us_en': 0, 'england_en': 1, 'canada_en': 2}\n",
            "\n",
            "en Test accuracy score: 65.57 %\n",
            " Classification Report\n",
            "              precision    recall  f1-score   support\n",
            "\n",
            "           0       0.64      0.70      0.67       142\n",
            "           1       0.69      0.77      0.73       150\n",
            "           2       0.58      0.34      0.43        74\n",
            "\n",
            "    accuracy                           0.66       366\n",
            "   macro avg       0.64      0.60      0.61       366\n",
            "weighted avg       0.65      0.66      0.64       366\n",
            "\n"
          ]
        },
        {
          "output_type": "display_data",
          "data": {
            "text/plain": [
              "<Figure size 432x288 with 2 Axes>"
            ],
            "image/png": "[encoded data removed]"
          },
          "metadata": {
            "needs_background": "light"
          }
        }
      ]
    },
    {
      "cell_type": "markdown",
      "source": [
        "# Ca scoring: 58.28 %"
      ],
      "metadata": {
        "id": "SKsWZl3Q3Uge"
      }
    },
    {
      "cell_type": "code",
      "source": [
        "# Test accuracy score: 52.01 %\n",
        "lan = 'ca';\n",
        "lan_dict = {'balearic_ca': 0, 'central_ca': 1, 'valencian_ca': 2}\n",
        "model = Convolutional_Speaker_Identification().to(device)\n",
        "model.load_state_dict(torch.load(\"/content/drive/MyDrive/voice/models/\"+lan+\"stat0.pth\"))\n",
        "model.eval()\n",
        "x = load_x(lan)\n",
        "y = load_y(lan, lan_dict)\n",
        "\n",
        "\n",
        "print()\n",
        "\n",
        "y_p = np.argmax(model(x.to(device)).to(\"cpu\").detach().numpy(), axis =1)\n",
        "y_true = np.array(y, dtype= int)\n",
        "\n",
        "acc = np.mean(np.array(y_p == y_true, dtype= int))\n",
        "print(lan + \" Test accuracy score:\", round(acc*100,2) , \"%\")\n",
        "\n",
        "print(' Classification Report')\n",
        "print(classification_report(y_true, y_p))\n",
        "\n",
        "cm = confusion_matrix(y_true, y_p)\n",
        "plt.subplots()\n",
        "sns.heatmap(cm,fmt=\".0f\", annot=True)\n",
        "plt.xlabel(\"Predict\")\n",
        "plt.ylabel(\"Test\")\n",
        "plt.show()\n",
        "\n"
      ],
      "metadata": {
        "colab": {
          "base_uri": "https://localhost:8080/",
          "height": 517
        },
        "id": "GdC7KU8wfYwl",
        "outputId": "a7305a28-2558-48b4-a0c7-0446e2504967"
      },
      "execution_count": null,
      "outputs": [
        {
          "output_type": "stream",
          "name": "stdout",
          "text": [
            "{'balearic_ca': 0, 'central_ca': 1, 'valencian_ca': 2}\n",
            "\n",
            "ca Test accuracy score: 58.28 %\n",
            " Classification Report\n",
            "              precision    recall  f1-score   support\n",
            "\n",
            "           0       0.58      0.30      0.39        84\n",
            "           1       0.55      0.58      0.56       179\n",
            "           2       0.61      0.72      0.66       190\n",
            "\n",
            "    accuracy                           0.58       453\n",
            "   macro avg       0.58      0.53      0.54       453\n",
            "weighted avg       0.58      0.58      0.57       453\n",
            "\n"
          ]
        },
        {
          "output_type": "display_data",
          "data": {
            "text/plain": [
              "<Figure size 432x288 with 2 Axes>"
            ],
            "image/png": "[encoded data removed]"
          },
          "metadata": {
            "needs_background": "light"
          }
        }
      ]
    },
    {
      "cell_type": "markdown",
      "source": [
        "# Fr scoring: 51.3 %\n"
      ],
      "metadata": {
        "id": "nJic8ILr4Rlx"
      }
    },
    {
      "cell_type": "code",
      "source": [
        "# Test accuracy score: 50.4 % with 2 more liars\n",
        "lan = 'fr';\n",
        "model = torch.load(\"/content/drive/MyDrive/voice/models/\"+lan+\"model1.pth\")\n",
        "lan_dict = {'switzerland_fr': 0, 'france_fr': 1, 'belgium_fr': 2}\n",
        "\n",
        "model.eval()\n",
        "x = load_x(\"test_data/\"+lan)\n",
        "y = load_y(\"test_data/\"+lan, lan_dict)\n",
        "\n",
        "\n",
        "y_p = np.argmax(model(x.to(device)).to(\"cpu\").detach().numpy(), axis =1)\n",
        "y_true = np.array(y, dtype= int)\n",
        "\n",
        "acc = np.mean(np.array(y_p == y_true, dtype= int))\n",
        "\n",
        "\n",
        "\n",
        "print(lan + \" Test accuracy score:\", round(acc*100,2) , \"%\")\n",
        "\n",
        "print(' Classification Report')\n",
        "print(classification_report(y_true, y_p))\n",
        "\n",
        "cm = confusion_matrix(y_true, y_p)\n",
        "plt.subplots()\n",
        "sns.heatmap(cm,fmt=\".0f\", annot=True)\n",
        "plt.xlabel(\"Predict\")\n",
        "plt.ylabel(\"Test\")\n",
        "plt.show()\n",
        "\n"
      ],
      "metadata": {
        "id": "VVQRo3ArgOOG",
        "colab": {
          "base_uri": "https://localhost:8080/",
          "height": 500
        },
        "outputId": "53f89cb9-8c80-4930-a551-08e85b740a2e"
      },
      "execution_count": null,
      "outputs": [
        {
          "output_type": "stream",
          "name": "stdout",
          "text": [
            "{'switzerland_fr': 0, 'france_fr': 1, 'belgium_fr': 2}\n",
            "fr Test accuracy score: 51.32 %\n",
            " Classification Report\n",
            "              precision    recall  f1-score   support\n",
            "\n",
            "           0       0.54      0.13      0.22        52\n",
            "           1       0.56      0.75      0.64        99\n",
            "           2       0.43      0.47      0.45        77\n",
            "\n",
            "    accuracy                           0.51       228\n",
            "   macro avg       0.51      0.45      0.44       228\n",
            "weighted avg       0.51      0.51      0.48       228\n",
            "\n"
          ]
        },
        {
          "output_type": "display_data",
          "data": {
            "text/plain": [
              "<Figure size 432x288 with 2 Axes>"
            ],
            "image/png": "[encoded data removed]"
          },
          "metadata": {
            "needs_background": "light"
          }
        }
      ]
    },
    {
      "cell_type": "markdown",
      "source": [
        "# Eu scoring: 76 %"
      ],
      "metadata": {
        "id": "r-plVZfM9m6a"
      }
    },
    {
      "cell_type": "code",
      "source": [
        "# Test accuracy score: 72.95 %\n",
        "lan = 'eu';\n",
        "model = torch.load(\"/content/drive/MyDrive/voice/models/\"+lan+\"model0.pth\")\n",
        "lan_dict = {'mendebalekoa_eu': 0, 'erdialdekoa_nafarra_eu': 1}\n",
        "\n",
        "model.eval()\n",
        "x = load_x(lan)\n",
        "y = load_y(lan, lan_dict)\n",
        "\n",
        "\n",
        "y_p = np.argmax(model(x.to(device)).to(\"cpu\").detach().numpy(), axis =1)\n",
        "y_true = np.array(y, dtype= int)\n",
        "\n",
        "acc = np.mean(np.array(y_p == y_true, dtype= int))\n",
        "\n",
        "\n",
        "\n",
        "print(lan + \" Test accuracy score:\", round(acc*100,2) , \"%\")\n",
        "\n",
        "print(' Classification Report')\n",
        "print(classification_report(y_true, y_p))\n",
        "\n",
        "cm = confusion_matrix(y_true, y_p)\n",
        "plt.subplots()\n",
        "sns.heatmap(cm,fmt=\".0f\", annot=True)\n",
        "plt.xlabel(\"Predict\")\n",
        "plt.ylabel(\"Test\")\n",
        "plt.show()"
      ],
      "metadata": {
        "colab": {
          "base_uri": "https://localhost:8080/",
          "height": 483
        },
        "id": "FTxM-EWC4_Ny",
        "outputId": "d96b52b4-a629-4a13-963e-25669f25b40c"
      },
      "execution_count": null,
      "outputs": [
        {
          "output_type": "stream",
          "name": "stdout",
          "text": [
            "{'mendebalekoa_eu': 0, 'erdialdekoa_nafarra_eu': 1}\n",
            "eu Test accuracy score: 75.68 %\n",
            " Classification Report\n",
            "              precision    recall  f1-score   support\n",
            "\n",
            "           0       0.76      0.71      0.73       171\n",
            "           1       0.76      0.80      0.78       195\n",
            "\n",
            "    accuracy                           0.76       366\n",
            "   macro avg       0.76      0.75      0.75       366\n",
            "weighted avg       0.76      0.76      0.76       366\n",
            "\n"
          ]
        },
        {
          "output_type": "display_data",
          "data": {
            "text/plain": [
              "<Figure size 432x288 with 2 Axes>"
            ],
            "image/png": "[encoded data removed]"
          },
          "metadata": {
            "needs_background": "light"
          }
        }
      ]
    },
    {
      "cell_type": "markdown",
      "source": [
        "# zh scoring: 66 %"
      ],
      "metadata": {
        "id": "Ul_PoXqJ-LUR"
      }
    },
    {
      "cell_type": "code",
      "source": [
        "# Test accuracy score: 60.06 %\n",
        "lan = 'zh-cn';\n",
        "model = torch.load(\"/content/drive/MyDrive/voice/models/\"+lan+\"model3.pth\")\n",
        "lan_dict = {'440000_zh-CN': 0, '330000_zh-CN': 1, '110000_zh-CN': 2}\n",
        "\n",
        "model.eval()\n",
        "x = load_x(\"test_data/\"+lan)\n",
        "y = load_y(\"test_data/\"+lan, lan_dict)\n",
        "\n",
        "\n",
        "y_p = np.argmax(model(x.to(device)).to(\"cpu\").detach().numpy(), axis =1)\n",
        "y_true = np.array(y, dtype= int)\n",
        "\n",
        "acc = np.mean(np.array(y_p == y_true, dtype= int))\n",
        "\n",
        "\n",
        "\n",
        "print(lan + \" Test accuracy score:\", round(acc*100,2) , \"%\")\n",
        "\n",
        "print(' Classification Report')\n",
        "print(classification_report(y_true, y_p))\n",
        "\n",
        "cm = confusion_matrix(y_true, y_p)\n",
        "plt.subplots()\n",
        "sns.heatmap(cm,fmt=\".0f\", annot=True)\n",
        "plt.xlabel(\"Predict\")\n",
        "plt.ylabel(\"Test\")\n",
        "plt.show()"
      ],
      "metadata": {
        "colab": {
          "base_uri": "https://localhost:8080/",
          "height": 500
        },
        "id": "ztlp4Gyo9w2R",
        "outputId": "2b3ecbe2-bd06-4219-d9af-372ea9b9e9e3"
      },
      "execution_count": null,
      "outputs": [
        {
          "output_type": "stream",
          "name": "stdout",
          "text": [
            "{'440000_zh-CN': 0, '330000_zh-CN': 1, '110000_zh-CN': 2}\n",
            "zh-cn Test accuracy score: 65.73 %\n",
            " Classification Report\n",
            "              precision    recall  f1-score   support\n",
            "\n",
            "           0       0.66      0.21      0.32        90\n",
            "           1       0.63      0.68      0.66       213\n",
            "           2       0.68      0.81      0.74       231\n",
            "\n",
            "    accuracy                           0.66       534\n",
            "   macro avg       0.66      0.57      0.57       534\n",
            "weighted avg       0.66      0.66      0.63       534\n",
            "\n"
          ]
        },
        {
          "output_type": "display_data",
          "data": {
            "text/plain": [
              "<Figure size 432x288 with 2 Axes>"
            ],
            "image/png": "[encoded data removed]"
          },
          "metadata": {
            "needs_background": "light"
          }
        }
      ]
    },
    {
      "cell_type": "markdown",
      "source": [
        "# Es scoring: 65 %"
      ],
      "metadata": {
        "id": "byq09BmYH-oR"
      }
    },
    {
      "cell_type": "code",
      "source": [
        "lan = 'es';\n",
        "model = torch.load(\"/content/drive/MyDrive/voice/models/\"+lan+\"model0.pth\")\n",
        "lan_dict = {'nortepeninsular_es': 1, 'chileno_es': 2, 'andino_es': 0}\n",
        "\n",
        "model.eval()\n",
        "x = load_x(\"test_data/\"+lan)\n",
        "y = load_y(\"test_data/\"+lan, lan_dict)\n",
        "\n",
        "\n",
        "y_p = np.argmax(model(x.to(device)).to(\"cpu\").detach().numpy(), axis =1)\n",
        "y_true = np.array(y, dtype= int)\n",
        "\n",
        "acc = np.mean(np.array(y_p == y_true, dtype= int))\n",
        "\n",
        "\n",
        "\n",
        "print(lan + \" Test accuracy score:\", round(acc*100,2) , \"%\")\n",
        "\n",
        "print(' Classification Report')\n",
        "print(classification_report(y_true, y_p))\n",
        "\n",
        "cm = confusion_matrix(y_true, y_p)\n",
        "plt.subplots()\n",
        "sns.heatmap(cm,fmt=\".0f\", annot=True)\n",
        "plt.xlabel(\"Predict\")\n",
        "plt.ylabel(\"Test\")\n",
        "plt.show()"
      ],
      "metadata": {
        "colab": {
          "base_uri": "https://localhost:8080/",
          "height": 500
        },
        "id": "iJbj4Z3w-R0l",
        "outputId": "4cb4bb51-6dd9-4581-afeb-03b99979badc"
      },
      "execution_count": null,
      "outputs": [
        {
          "output_type": "stream",
          "name": "stdout",
          "text": [
            "{'nortepeninsular_es': 1, 'chileno_es': 2, 'andino_es': 0}\n",
            "es Test accuracy score: 64.66 %\n",
            " Classification Report\n",
            "              precision    recall  f1-score   support\n",
            "\n",
            "           0       0.75      0.70      0.72       164\n",
            "           1       0.58      0.68      0.63       122\n",
            "           2       0.51      0.45      0.48        62\n",
            "\n",
            "    accuracy                           0.65       348\n",
            "   macro avg       0.62      0.61      0.61       348\n",
            "weighted avg       0.65      0.65      0.65       348\n",
            "\n"
          ]
        },
        {
          "output_type": "display_data",
          "data": {
            "text/plain": [
              "<Figure size 432x288 with 2 Axes>"
            ],
            "image/png": "[encoded data removed]"
          },
          "metadata": {
            "needs_background": "light"
          }
        }
      ]
    },
    {
      "cell_type": "markdown",
      "source": [
        "# De scoring: 50.0 %"
      ],
      "metadata": {
        "id": "OzENnxOxIGTH"
      }
    },
    {
      "cell_type": "code",
      "source": [
        "\n",
        "lan = 'de';\n",
        "model = torch.load(\"/content/drive/MyDrive/voice/models/\"+lan+\"model3.pth\")\n",
        "lan_dict = {'germany_de': 0, 'austria_de': 1, 'switzerland_de': 2}\n",
        "\n",
        "model.eval()\n",
        "x = load_x(\"test_data/\"+lan)\n",
        "y = load_y(\"test_data/\"+lan, lan_dict)\n",
        "\n",
        "\n",
        "y_p = np.argmax(model(x.to(device)).to(\"cpu\").detach().numpy(), axis =1)\n",
        "y_true = np.array(y, dtype= int)\n",
        "\n",
        "acc = np.mean(np.array(y_p == y_true, dtype= int))\n",
        "\n",
        "\n",
        "\n",
        "print(lan + \" Test accuracy score:\", round(acc*100,2) , \"%\")\n",
        "\n",
        "print(' Classification Report')\n",
        "print(classification_report(y_true, y_p))\n",
        "\n",
        "cm = confusion_matrix(y_true, y_p)\n",
        "plt.subplots()\n",
        "sns.heatmap(cm,fmt=\".0f\", annot=True)\n",
        "plt.xlabel(\"Predict\")\n",
        "plt.ylabel(\"Test\")\n",
        "plt.show()"
      ],
      "metadata": {
        "colab": {
          "base_uri": "https://localhost:8080/",
          "height": 500
        },
        "id": "XERoqoDbFjh3",
        "outputId": "77ff06ed-68e9-44d6-f0fe-6f2e7b20fd1d"
      },
      "execution_count": null,
      "outputs": [
        {
          "output_type": "stream",
          "name": "stdout",
          "text": [
            "{'germany_de': 0, 'austria_de': 1, 'switzerland_de': 2}\n",
            "de Test accuracy score: 50.24 %\n",
            " Classification Report\n",
            "              precision    recall  f1-score   support\n",
            "\n",
            "           0       0.47      0.62      0.53       152\n",
            "           1       0.53      0.52      0.53       166\n",
            "           2       0.53      0.30      0.38       104\n",
            "\n",
            "    accuracy                           0.50       422\n",
            "   macro avg       0.51      0.48      0.48       422\n",
            "weighted avg       0.51      0.50      0.49       422\n",
            "\n"
          ]
        },
        {
          "output_type": "display_data",
          "data": {
            "text/plain": [
              "<Figure size 432x288 with 2 Axes>"
            ],
            "image/png": "[encoded data removed]"
          },
          "metadata": {
            "needs_background": "light"
          }
        }
      ]
    },
    {
      "cell_type": "markdown",
      "source": [
        "# language scoring: 82.0 %"
      ],
      "metadata": {
        "id": "R9o8pTJ8Ji2u"
      }
    },
    {
      "cell_type": "code",
      "source": [
        "\n",
        "model = torch.load(\"/content/drive/MyDrive/1_new/model/enmodel0.pth\")\n",
        "temp_dickt = {'eu': 0, 'de': 1, 'es': 2, 'ca': 3, 'fr': 4, 'zh-CN': 5, 'en': 6}\n",
        "\n",
        "model.eval()\n",
        "\n",
        "\n",
        "\n",
        "# load x\n",
        "x_to_add1 = open(\"/content/drive/MyDrive/1_new/law/all_x_test.pickle\",\"rb\")\n",
        "x_test = pickle.load(x_to_add1)\n",
        "x_to_add1.close()\n",
        "my_tensor = torch.cat(x_test)\n",
        "x = torch.unsqueeze(my_tensor, 1)\n",
        "\n",
        "# load y\n",
        "pickle_in_y1 = open(\"/content/drive/MyDrive/1_new/law/all_y_test.pickle\",\"rb\")\n",
        "y_test = pickle.load(pickle_in_y1)\n",
        "pickle_in_y1.close()\n",
        "temp_dickt = temp_dickt \n",
        "y = torch.FloatTensor([temp_dickt[x] for x in y_test])\n",
        "print(temp_dickt)\n",
        "\n",
        "\n",
        "\n",
        "\n",
        "\n",
        "y_p = np.argmax(model(x[:500].to(device)).to(\"cpu\").detach().numpy(), axis =1)\n",
        "y_true = np.array(y[:500], dtype= int)\n",
        "\n",
        "acc = np.mean(np.array(y_p == y_true, dtype= int))\n",
        "\n",
        "\n",
        "\n",
        "print(\"lan\" + \" Test accuracy score:\", round(acc*100,2) , \"%\")\n",
        "\n",
        "print(' Classification Report')\n",
        "print(classification_report(y_true, y_p))\n",
        "\n",
        "cm = confusion_matrix(y_true, y_p)\n",
        "plt.subplots()\n",
        "sns.heatmap(cm,fmt=\".0f\", annot=True)\n",
        "plt.xlabel(\"Predict\")\n",
        "plt.ylabel(\"Test\")\n",
        "plt.show()"
      ],
      "metadata": {
        "colab": {
          "base_uri": "https://localhost:8080/",
          "height": 568
        },
        "id": "9SvXCMg2HZLr",
        "outputId": "e620d0a3-a408-4198-894b-85b1cc3536f9"
      },
      "execution_count": null,
      "outputs": [
        {
          "output_type": "stream",
          "name": "stdout",
          "text": [
            "{'eu': 0, 'de': 1, 'es': 2, 'ca': 3, 'fr': 4, 'zh-CN': 5, 'en': 6}\n",
            "lan Test accuracy score: 81.6 %\n",
            " Classification Report\n",
            "              precision    recall  f1-score   support\n",
            "\n",
            "           0       0.85      0.84      0.85        83\n",
            "           1       0.77      0.67      0.72        55\n",
            "           2       0.78      0.64      0.70        55\n",
            "           3       0.75      0.58      0.66        67\n",
            "           4       0.69      0.87      0.77        52\n",
            "           5       0.81      0.97      0.88       105\n",
            "           6       0.98      0.96      0.97        83\n",
            "\n",
            "    accuracy                           0.82       500\n",
            "   macro avg       0.80      0.79      0.79       500\n",
            "weighted avg       0.82      0.82      0.81       500\n",
            "\n"
          ]
        },
        {
          "output_type": "display_data",
          "data": {
            "text/plain": [
              "<Figure size 432x288 with 2 Axes>"
            ],
            "image/png": "[encoded data removed]"
          },
          "metadata": {
            "needs_background": "light"
          }
        }
      ]
    },
    {
      "cell_type": "code",
      "source": [
        "to_delete = [\"france_de\", \"canada_de\",\"centrosurpeninsular_es\", \"canada_fr\", \"450000_zh-CN\"]\n",
        "for lan in [\"en\" , \"ca\", \"fr\", \"eu\", \"zh-cn\", \"es\", \"de\"]:\n",
        "  pickle_in_y12 = open(\"/content/drive/MyDrive/voice/\"+lan+\"_y_train.pickle\",\"rb\")\n",
        "  y_test = pickle.load(pickle_in_y12)\n",
        "  pickle_in_y12.close()\n",
        "  print(\"\\n\\n\\t\\t\"+ lan + \"\\n\")\n",
        "  df_to_plot = pd.DataFrame(y_test)\n",
        "  df_to_plot[~df_to_plot[0].isin(to_delete)].value_counts().plot.bar()\n",
        "  plt.show()\n"
      ],
      "metadata": {
        "colab": {
          "base_uri": "https://localhost:8080/",
          "height": 1000
        },
        "id": "zc3SZ0X6pzPN",
        "outputId": "cbc0cda8-a02c-424b-a7c6-3903940dd354"
      },
      "execution_count": null,
      "outputs": [
        {
          "output_type": "stream",
          "name": "stdout",
          "text": [
            "\n",
            "\n",
            "\t\ten\n",
            "\n"
          ]
        },
        {
          "output_type": "display_data",
          "data": {
            "text/plain": [
              "<Figure size 432x288 with 1 Axes>"
            ],
            "image/png": "[encoded data removed]"
          },
          "metadata": {
            "needs_background": "light"
          }
        },
        {
          "output_type": "stream",
          "name": "stdout",
          "text": [
            "\n",
            "\n",
            "\t\tca\n",
            "\n"
          ]
        },
        {
          "output_type": "display_data",
          "data": {
            "text/plain": [
              "<Figure size 432x288 with 1 Axes>"
            ],
            "image/png": "[encoded data removed]"
          },
          "metadata": {
            "needs_background": "light"
          }
        },
        {
          "output_type": "stream",
          "name": "stdout",
          "text": [
            "\n",
            "\n",
            "\t\tfr\n",
            "\n"
          ]
        },
        {
          "output_type": "display_data",
          "data": {
            "text/plain": [
              "<Figure size 432x288 with 1 Axes>"
            ],
            "image/png": "[encoded data removed]"
          },
          "metadata": {
            "needs_background": "light"
          }
        },
        {
          "output_type": "stream",
          "name": "stdout",
          "text": [
            "\n",
            "\n",
            "\t\teu\n",
            "\n"
          ]
        },
        {
          "output_type": "display_data",
          "data": {
            "text/plain": [
              "<Figure size 432x288 with 1 Axes>"
            ],
            "image/png": "[encoded data removed]"
          },
          "metadata": {
            "needs_background": "light"
          }
        },
        {
          "output_type": "stream",
          "name": "stdout",
          "text": [
            "\n",
            "\n",
            "\t\tzh-cn\n",
            "\n"
          ]
        },
        {
          "output_type": "display_data",
          "data": {
            "text/plain": [
              "<Figure size 432x288 with 1 Axes>"
            ],
            "image/png": "[encoded data removed]"
          },
          "metadata": {
            "needs_background": "light"
          }
        },
        {
          "output_type": "stream",
          "name": "stdout",
          "text": [
            "\n",
            "\n",
            "\t\tes\n",
            "\n"
          ]
        },
        {
          "output_type": "display_data",
          "data": {
            "text/plain": [
              "<Figure size 432x288 with 1 Axes>"
            ],
            "image/png": "[encoded data removed]"
          },
          "metadata": {
            "needs_background": "light"
          }
        },
        {
          "output_type": "stream",
          "name": "stdout",
          "text": [
            "\n",
            "\n",
            "\t\tde\n",
            "\n"
          ]
        },
        {
          "output_type": "display_data",
          "data": {
            "text/plain": [
              "<Figure size 432x288 with 1 Axes>"
            ],
            "image/png": "[encoded data removed]"
          },
          "metadata": {
            "needs_background": "light"
          }
        }
      ]
    },
    {
      "cell_type": "code",
      "source": [
        ""
      ],
      "metadata": {
        "id": "apYUjtIvpzHg"
      },
      "execution_count": null,
      "outputs": []
    },
    {
      "cell_type": "code",
      "source": [
        ""
      ],
      "metadata": {
        "id": "9WUwPehBpy5E"
      },
      "execution_count": null,
      "outputs": []
    }
  ]
}