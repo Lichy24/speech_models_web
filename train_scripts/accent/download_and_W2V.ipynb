{
  "nbformat": 4,
  "nbformat_minor": 0,
  "metadata": {
    "colab": {
      "name": "Copy of download_data.ipynb",
      "provenance": [],
      "collapsed_sections": [],
      "machine_shape": "hm"
    },
    "kernelspec": {
      "name": "python3",
      "display_name": "Python 3"
    },
    "language_info": {
      "name": "python"
    },
    "accelerator": "GPU",
    "widgets": {
      "application/vnd.jupyter.widget-state+json": {
        "d3b2412c47db4cdca8e2979e6392a659": {
          "model_module": "@jupyter-widgets/controls",
          "model_name": "HBoxModel",
          "model_module_version": "1.5.0",
          "state": {
            "_dom_classes": [],
            "_model_module": "@jupyter-widgets/controls",
            "_model_module_version": "1.5.0",
            "_model_name": "HBoxModel",
            "_view_count": null,
            "_view_module": "@jupyter-widgets/controls",
            "_view_module_version": "1.5.0",
            "_view_name": "HBoxView",
            "box_style": "",
            "children": [
              "IPY_MODEL_401da3f91e5743908652ae3cff0901d2",
              "IPY_MODEL_d80ee52f98cd4df8b1e81d98885efb39",
              "IPY_MODEL_0f9b7244cb0a44878ed9d5b811933027"
            ],
            "layout": "IPY_MODEL_b7f4c54768ed41d9b9b443ead087ae9c"
          }
        },
        "401da3f91e5743908652ae3cff0901d2": {
          "model_module": "@jupyter-widgets/controls",
          "model_name": "HTMLModel",
          "model_module_version": "1.5.0",
          "state": {
            "_dom_classes": [],
            "_model_module": "@jupyter-widgets/controls",
            "_model_module_version": "1.5.0",
            "_model_name": "HTMLModel",
            "_view_count": null,
            "_view_module": "@jupyter-widgets/controls",
            "_view_module_version": "1.5.0",
            "_view_name": "HTMLView",
            "description": "",
            "description_tooltip": null,
            "layout": "IPY_MODEL_7867c0a421ce4429a4ae00be01a95921",
            "placeholder": "​",
            "style": "IPY_MODEL_adaf273aaecf435399ac519eb54a0aec",
            "value": "Downloading builder script: "
          }
        },
        "d80ee52f98cd4df8b1e81d98885efb39": {
          "model_module": "@jupyter-widgets/controls",
          "model_name": "FloatProgressModel",
          "model_module_version": "1.5.0",
          "state": {
            "_dom_classes": [],
            "_model_module": "@jupyter-widgets/controls",
            "_model_module_version": "1.5.0",
            "_model_name": "FloatProgressModel",
            "_view_count": null,
            "_view_module": "@jupyter-widgets/controls",
            "_view_module_version": "1.5.0",
            "_view_name": "ProgressView",
            "bar_style": "success",
            "description": "",
            "description_tooltip": null,
            "layout": "IPY_MODEL_4e1ee03e815843a3baa16b0485af4443",
            "max": 5208,
            "min": 0,
            "orientation": "horizontal",
            "style": "IPY_MODEL_9c1058577c894a40ae99b860ce51b429",
            "value": 5208
          }
        },
        "0f9b7244cb0a44878ed9d5b811933027": {
          "model_module": "@jupyter-widgets/controls",
          "model_name": "HTMLModel",
          "model_module_version": "1.5.0",
          "state": {
            "_dom_classes": [],
            "_model_module": "@jupyter-widgets/controls",
            "_model_module_version": "1.5.0",
            "_model_name": "HTMLModel",
            "_view_count": null,
            "_view_module": "@jupyter-widgets/controls",
            "_view_module_version": "1.5.0",
            "_view_name": "HTMLView",
            "description": "",
            "description_tooltip": null,
            "layout": "IPY_MODEL_23317ce70c8f4cf49fe4ac1891f9f5bf",
            "placeholder": "​",
            "style": "IPY_MODEL_8a452c38a8a54e87838c323d405de106",
            "value": " 26.4k/? [00:00&lt;00:00, 832kB/s]"
          }
        },
        "b7f4c54768ed41d9b9b443ead087ae9c": {
          "model_module": "@jupyter-widgets/base",
          "model_name": "LayoutModel",
          "model_module_version": "1.2.0",
          "state": {
            "_model_module": "@jupyter-widgets/base",
            "_model_module_version": "1.2.0",
            "_model_name": "LayoutModel",
            "_view_count": null,
            "_view_module": "@jupyter-widgets/base",
            "_view_module_version": "1.2.0",
            "_view_name": "LayoutView",
            "align_content": null,
            "align_items": null,
            "align_self": null,
            "border": null,
            "bottom": null,
            "display": null,
            "flex": null,
            "flex_flow": null,
            "grid_area": null,
            "grid_auto_columns": null,
            "grid_auto_flow": null,
            "grid_auto_rows": null,
            "grid_column": null,
            "grid_gap": null,
            "grid_row": null,
            "grid_template_areas": null,
            "grid_template_columns": null,
            "grid_template_rows": null,
            "height": null,
            "justify_content": null,
            "justify_items": null,
            "left": null,
            "margin": null,
            "max_height": null,
            "max_width": null,
            "min_height": null,
            "min_width": null,
            "object_fit": null,
            "object_position": null,
            "order": null,
            "overflow": null,
            "overflow_x": null,
            "overflow_y": null,
            "padding": null,
            "right": null,
            "top": null,
            "visibility": null,
            "width": null
          }
        },
        "7867c0a421ce4429a4ae00be01a95921": {
          "model_module": "@jupyter-widgets/base",
          "model_name": "LayoutModel",
          "model_module_version": "1.2.0",
          "state": {
            "_model_module": "@jupyter-widgets/base",
            "_model_module_version": "1.2.0",
            "_model_name": "LayoutModel",
            "_view_count": null,
            "_view_module": "@jupyter-widgets/base",
            "_view_module_version": "1.2.0",
            "_view_name": "LayoutView",
            "align_content": null,
            "align_items": null,
            "align_self": null,
            "border": null,
            "bottom": null,
            "display": null,
            "flex": null,
            "flex_flow": null,
            "grid_area": null,
            "grid_auto_columns": null,
            "grid_auto_flow": null,
            "grid_auto_rows": null,
            "grid_column": null,
            "grid_gap": null,
            "grid_row": null,
            "grid_template_areas": null,
            "grid_template_columns": null,
            "grid_template_rows": null,
            "height": null,
            "justify_content": null,
            "justify_items": null,
            "left": null,
            "margin": null,
            "max_height": null,
            "max_width": null,
            "min_height": null,
            "min_width": null,
            "object_fit": null,
            "object_position": null,
            "order": null,
            "overflow": null,
            "overflow_x": null,
            "overflow_y": null,
            "padding": null,
            "right": null,
            "top": null,
            "visibility": null,
            "width": null
          }
        },
        "adaf273aaecf435399ac519eb54a0aec": {
          "model_module": "@jupyter-widgets/controls",
          "model_name": "DescriptionStyleModel",
          "model_module_version": "1.5.0",
          "state": {
            "_model_module": "@jupyter-widgets/controls",
            "_model_module_version": "1.5.0",
            "_model_name": "DescriptionStyleModel",
            "_view_count": null,
            "_view_module": "@jupyter-widgets/base",
            "_view_module_version": "1.2.0",
            "_view_name": "StyleView",
            "description_width": ""
          }
        },
        "4e1ee03e815843a3baa16b0485af4443": {
          "model_module": "@jupyter-widgets/base",
          "model_name": "LayoutModel",
          "model_module_version": "1.2.0",
          "state": {
            "_model_module": "@jupyter-widgets/base",
            "_model_module_version": "1.2.0",
            "_model_name": "LayoutModel",
            "_view_count": null,
            "_view_module": "@jupyter-widgets/base",
            "_view_module_version": "1.2.0",
            "_view_name": "LayoutView",
            "align_content": null,
            "align_items": null,
            "align_self": null,
            "border": null,
            "bottom": null,
            "display": null,
            "flex": null,
            "flex_flow": null,
            "grid_area": null,
            "grid_auto_columns": null,
            "grid_auto_flow": null,
            "grid_auto_rows": null,
            "grid_column": null,
            "grid_gap": null,
            "grid_row": null,
            "grid_template_areas": null,
            "grid_template_columns": null,
            "grid_template_rows": null,
            "height": null,
            "justify_content": null,
            "justify_items": null,
            "left": null,
            "margin": null,
            "max_height": null,
            "max_width": null,
            "min_height": null,
            "min_width": null,
            "object_fit": null,
            "object_position": null,
            "order": null,
            "overflow": null,
            "overflow_x": null,
            "overflow_y": null,
            "padding": null,
            "right": null,
            "top": null,
            "visibility": null,
            "width": null
          }
        },
        "9c1058577c894a40ae99b860ce51b429": {
          "model_module": "@jupyter-widgets/controls",
          "model_name": "ProgressStyleModel",
          "model_module_version": "1.5.0",
          "state": {
            "_model_module": "@jupyter-widgets/controls",
            "_model_module_version": "1.5.0",
            "_model_name": "ProgressStyleModel",
            "_view_count": null,
            "_view_module": "@jupyter-widgets/base",
            "_view_module_version": "1.2.0",
            "_view_name": "StyleView",
            "bar_color": null,
            "description_width": ""
          }
        },
        "23317ce70c8f4cf49fe4ac1891f9f5bf": {
          "model_module": "@jupyter-widgets/base",
          "model_name": "LayoutModel",
          "model_module_version": "1.2.0",
          "state": {
            "_model_module": "@jupyter-widgets/base",
            "_model_module_version": "1.2.0",
            "_model_name": "LayoutModel",
            "_view_count": null,
            "_view_module": "@jupyter-widgets/base",
            "_view_module_version": "1.2.0",
            "_view_name": "LayoutView",
            "align_content": null,
            "align_items": null,
            "align_self": null,
            "border": null,
            "bottom": null,
            "display": null,
            "flex": null,
            "flex_flow": null,
            "grid_area": null,
            "grid_auto_columns": null,
            "grid_auto_flow": null,
            "grid_auto_rows": null,
            "grid_column": null,
            "grid_gap": null,
            "grid_row": null,
            "grid_template_areas": null,
            "grid_template_columns": null,
            "grid_template_rows": null,
            "height": null,
            "justify_content": null,
            "justify_items": null,
            "left": null,
            "margin": null,
            "max_height": null,
            "max_width": null,
            "min_height": null,
            "min_width": null,
            "object_fit": null,
            "object_position": null,
            "order": null,
            "overflow": null,
            "overflow_x": null,
            "overflow_y": null,
            "padding": null,
            "right": null,
            "top": null,
            "visibility": null,
            "width": null
          }
        },
        "8a452c38a8a54e87838c323d405de106": {
          "model_module": "@jupyter-widgets/controls",
          "model_name": "DescriptionStyleModel",
          "model_module_version": "1.5.0",
          "state": {
            "_model_module": "@jupyter-widgets/controls",
            "_model_module_version": "1.5.0",
            "_model_name": "DescriptionStyleModel",
            "_view_count": null,
            "_view_module": "@jupyter-widgets/base",
            "_view_module_version": "1.2.0",
            "_view_name": "StyleView",
            "description_width": ""
          }
        },
        "baa76691b96744008598efbf7c5d4299": {
          "model_module": "@jupyter-widgets/controls",
          "model_name": "HBoxModel",
          "model_module_version": "1.5.0",
          "state": {
            "_dom_classes": [],
            "_model_module": "@jupyter-widgets/controls",
            "_model_module_version": "1.5.0",
            "_model_name": "HBoxModel",
            "_view_count": null,
            "_view_module": "@jupyter-widgets/controls",
            "_view_module_version": "1.5.0",
            "_view_name": "HBoxView",
            "box_style": "",
            "children": [
              "IPY_MODEL_6db4dec9e0084d05adc35f360b4b8aa5",
              "IPY_MODEL_08768e143d4a4fdfa823c980fcb953c3",
              "IPY_MODEL_7ac08f6fb9ab408ea967827b0bb6fc2a"
            ],
            "layout": "IPY_MODEL_75d184201cdb4557801a42d82a69fe5f"
          }
        },
        "6db4dec9e0084d05adc35f360b4b8aa5": {
          "model_module": "@jupyter-widgets/controls",
          "model_name": "HTMLModel",
          "model_module_version": "1.5.0",
          "state": {
            "_dom_classes": [],
            "_model_module": "@jupyter-widgets/controls",
            "_model_module_version": "1.5.0",
            "_model_name": "HTMLModel",
            "_view_count": null,
            "_view_module": "@jupyter-widgets/controls",
            "_view_module_version": "1.5.0",
            "_view_name": "HTMLView",
            "description": "",
            "description_tooltip": null,
            "layout": "IPY_MODEL_9b6e9b4bed8a4b9fac99526c5e30a845",
            "placeholder": "​",
            "style": "IPY_MODEL_37c5bfef3ada47c3ac159e4f5349ff6c",
            "value": "Downloading metadata: "
          }
        },
        "08768e143d4a4fdfa823c980fcb953c3": {
          "model_module": "@jupyter-widgets/controls",
          "model_name": "FloatProgressModel",
          "model_module_version": "1.5.0",
          "state": {
            "_dom_classes": [],
            "_model_module": "@jupyter-widgets/controls",
            "_model_module_version": "1.5.0",
            "_model_name": "FloatProgressModel",
            "_view_count": null,
            "_view_module": "@jupyter-widgets/controls",
            "_view_module_version": "1.5.0",
            "_view_name": "ProgressView",
            "bar_style": "success",
            "description": "",
            "description_tooltip": null,
            "layout": "IPY_MODEL_34f367ac4e19436aaad4dc28ce5a7f56",
            "max": 11482,
            "min": 0,
            "orientation": "horizontal",
            "style": "IPY_MODEL_80f9a42bce1e4c5d803466f44802f6af",
            "value": 11482
          }
        },
        "7ac08f6fb9ab408ea967827b0bb6fc2a": {
          "model_module": "@jupyter-widgets/controls",
          "model_name": "HTMLModel",
          "model_module_version": "1.5.0",
          "state": {
            "_dom_classes": [],
            "_model_module": "@jupyter-widgets/controls",
            "_model_module_version": "1.5.0",
            "_model_name": "HTMLModel",
            "_view_count": null,
            "_view_module": "@jupyter-widgets/controls",
            "_view_module_version": "1.5.0",
            "_view_name": "HTMLView",
            "description": "",
            "description_tooltip": null,
            "layout": "IPY_MODEL_3d8332de7ec94fcc9b5d3a5849a3b253",
            "placeholder": "​",
            "style": "IPY_MODEL_5a6993fe342541a7a3f1a9c7dd8c85a6",
            "value": " 174k/? [00:00&lt;00:00, 5.25MB/s]"
          }
        },
        "75d184201cdb4557801a42d82a69fe5f": {
          "model_module": "@jupyter-widgets/base",
          "model_name": "LayoutModel",
          "model_module_version": "1.2.0",
          "state": {
            "_model_module": "@jupyter-widgets/base",
            "_model_module_version": "1.2.0",
            "_model_name": "LayoutModel",
            "_view_count": null,
            "_view_module": "@jupyter-widgets/base",
            "_view_module_version": "1.2.0",
            "_view_name": "LayoutView",
            "align_content": null,
            "align_items": null,
            "align_self": null,
            "border": null,
            "bottom": null,
            "display": null,
            "flex": null,
            "flex_flow": null,
            "grid_area": null,
            "grid_auto_columns": null,
            "grid_auto_flow": null,
            "grid_auto_rows": null,
            "grid_column": null,
            "grid_gap": null,
            "grid_row": null,
            "grid_template_areas": null,
            "grid_template_columns": null,
            "grid_template_rows": null,
            "height": null,
            "justify_content": null,
            "justify_items": null,
            "left": null,
            "margin": null,
            "max_height": null,
            "max_width": null,
            "min_height": null,
            "min_width": null,
            "object_fit": null,
            "object_position": null,
            "order": null,
            "overflow": null,
            "overflow_x": null,
            "overflow_y": null,
            "padding": null,
            "right": null,
            "top": null,
            "visibility": null,
            "width": null
          }
        },
        "9b6e9b4bed8a4b9fac99526c5e30a845": {
          "model_module": "@jupyter-widgets/base",
          "model_name": "LayoutModel",
          "model_module_version": "1.2.0",
          "state": {
            "_model_module": "@jupyter-widgets/base",
            "_model_module_version": "1.2.0",
            "_model_name": "LayoutModel",
            "_view_count": null,
            "_view_module": "@jupyter-widgets/base",
            "_view_module_version": "1.2.0",
            "_view_name": "LayoutView",
            "align_content": null,
            "align_items": null,
            "align_self": null,
            "border": null,
            "bottom": null,
            "display": null,
            "flex": null,
            "flex_flow": null,
            "grid_area": null,
            "grid_auto_columns": null,
            "grid_auto_flow": null,
            "grid_auto_rows": null,
            "grid_column": null,
            "grid_gap": null,
            "grid_row": null,
            "grid_template_areas": null,
            "grid_template_columns": null,
            "grid_template_rows": null,
            "height": null,
            "justify_content": null,
            "justify_items": null,
            "left": null,
            "margin": null,
            "max_height": null,
            "max_width": null,
            "min_height": null,
            "min_width": null,
            "object_fit": null,
            "object_position": null,
            "order": null,
            "overflow": null,
            "overflow_x": null,
            "overflow_y": null,
            "padding": null,
            "right": null,
            "top": null,
            "visibility": null,
            "width": null
          }
        },
        "37c5bfef3ada47c3ac159e4f5349ff6c": {
          "model_module": "@jupyter-widgets/controls",
          "model_name": "DescriptionStyleModel",
          "model_module_version": "1.5.0",
          "state": {
            "_model_module": "@jupyter-widgets/controls",
            "_model_module_version": "1.5.0",
            "_model_name": "DescriptionStyleModel",
            "_view_count": null,
            "_view_module": "@jupyter-widgets/base",
            "_view_module_version": "1.2.0",
            "_view_name": "StyleView",
            "description_width": ""
          }
        },
        "34f367ac4e19436aaad4dc28ce5a7f56": {
          "model_module": "@jupyter-widgets/base",
          "model_name": "LayoutModel",
          "model_module_version": "1.2.0",
          "state": {
            "_model_module": "@jupyter-widgets/base",
            "_model_module_version": "1.2.0",
            "_model_name": "LayoutModel",
            "_view_count": null,
            "_view_module": "@jupyter-widgets/base",
            "_view_module_version": "1.2.0",
            "_view_name": "LayoutView",
            "align_content": null,
            "align_items": null,
            "align_self": null,
            "border": null,
            "bottom": null,
            "display": null,
            "flex": null,
            "flex_flow": null,
            "grid_area": null,
            "grid_auto_columns": null,
            "grid_auto_flow": null,
            "grid_auto_rows": null,
            "grid_column": null,
            "grid_gap": null,
            "grid_row": null,
            "grid_template_areas": null,
            "grid_template_columns": null,
            "grid_template_rows": null,
            "height": null,
            "justify_content": null,
            "justify_items": null,
            "left": null,
            "margin": null,
            "max_height": null,
            "max_width": null,
            "min_height": null,
            "min_width": null,
            "object_fit": null,
            "object_position": null,
            "order": null,
            "overflow": null,
            "overflow_x": null,
            "overflow_y": null,
            "padding": null,
            "right": null,
            "top": null,
            "visibility": null,
            "width": null
          }
        },
        "80f9a42bce1e4c5d803466f44802f6af": {
          "model_module": "@jupyter-widgets/controls",
          "model_name": "ProgressStyleModel",
          "model_module_version": "1.5.0",
          "state": {
            "_model_module": "@jupyter-widgets/controls",
            "_model_module_version": "1.5.0",
            "_model_name": "ProgressStyleModel",
            "_view_count": null,
            "_view_module": "@jupyter-widgets/base",
            "_view_module_version": "1.2.0",
            "_view_name": "StyleView",
            "bar_color": null,
            "description_width": ""
          }
        },
        "3d8332de7ec94fcc9b5d3a5849a3b253": {
          "model_module": "@jupyter-widgets/base",
          "model_name": "LayoutModel",
          "model_module_version": "1.2.0",
          "state": {
            "_model_module": "@jupyter-widgets/base",
            "_model_module_version": "1.2.0",
            "_model_name": "LayoutModel",
            "_view_count": null,
            "_view_module": "@jupyter-widgets/base",
            "_view_module_version": "1.2.0",
            "_view_name": "LayoutView",
            "align_content": null,
            "align_items": null,
            "align_self": null,
            "border": null,
            "bottom": null,
            "display": null,
            "flex": null,
            "flex_flow": null,
            "grid_area": null,
            "grid_auto_columns": null,
            "grid_auto_flow": null,
            "grid_auto_rows": null,
            "grid_column": null,
            "grid_gap": null,
            "grid_row": null,
            "grid_template_areas": null,
            "grid_template_columns": null,
            "grid_template_rows": null,
            "height": null,
            "justify_content": null,
            "justify_items": null,
            "left": null,
            "margin": null,
            "max_height": null,
            "max_width": null,
            "min_height": null,
            "min_width": null,
            "object_fit": null,
            "object_position": null,
            "order": null,
            "overflow": null,
            "overflow_x": null,
            "overflow_y": null,
            "padding": null,
            "right": null,
            "top": null,
            "visibility": null,
            "width": null
          }
        },
        "5a6993fe342541a7a3f1a9c7dd8c85a6": {
          "model_module": "@jupyter-widgets/controls",
          "model_name": "DescriptionStyleModel",
          "model_module_version": "1.5.0",
          "state": {
            "_model_module": "@jupyter-widgets/controls",
            "_model_module_version": "1.5.0",
            "_model_name": "DescriptionStyleModel",
            "_view_count": null,
            "_view_module": "@jupyter-widgets/base",
            "_view_module_version": "1.2.0",
            "_view_name": "StyleView",
            "description_width": ""
          }
        },
        "e0009a1ddd6e408188edfefb15abde74": {
          "model_module": "@jupyter-widgets/controls",
          "model_name": "HBoxModel",
          "model_module_version": "1.5.0",
          "state": {
            "_dom_classes": [],
            "_model_module": "@jupyter-widgets/controls",
            "_model_module_version": "1.5.0",
            "_model_name": "HBoxModel",
            "_view_count": null,
            "_view_module": "@jupyter-widgets/controls",
            "_view_module_version": "1.5.0",
            "_view_name": "HBoxView",
            "box_style": "",
            "children": [
              "IPY_MODEL_40f28904c00b4dbe837bb280252018d6",
              "IPY_MODEL_70655c56d0a2499db701fa5e1fe06c75",
              "IPY_MODEL_f41ed0183aee472ebf7a7c82b5a005dd"
            ],
            "layout": "IPY_MODEL_2613df5d95cb4dd2ac3345b18f3a531e"
          }
        },
        "40f28904c00b4dbe837bb280252018d6": {
          "model_module": "@jupyter-widgets/controls",
          "model_name": "HTMLModel",
          "model_module_version": "1.5.0",
          "state": {
            "_dom_classes": [],
            "_model_module": "@jupyter-widgets/controls",
            "_model_module_version": "1.5.0",
            "_model_name": "HTMLModel",
            "_view_count": null,
            "_view_module": "@jupyter-widgets/controls",
            "_view_module_version": "1.5.0",
            "_view_name": "HTMLView",
            "description": "",
            "description_tooltip": null,
            "layout": "IPY_MODEL_f07b86980bd44679a260e2b342ee3e25",
            "placeholder": "​",
            "style": "IPY_MODEL_2829dcaf7dc24cfd8be776409f608013",
            "value": "100%"
          }
        },
        "70655c56d0a2499db701fa5e1fe06c75": {
          "model_module": "@jupyter-widgets/controls",
          "model_name": "FloatProgressModel",
          "model_module_version": "1.5.0",
          "state": {
            "_dom_classes": [],
            "_model_module": "@jupyter-widgets/controls",
            "_model_module_version": "1.5.0",
            "_model_name": "FloatProgressModel",
            "_view_count": null,
            "_view_module": "@jupyter-widgets/controls",
            "_view_module_version": "1.5.0",
            "_view_name": "ProgressView",
            "bar_style": "success",
            "description": "",
            "description_tooltip": null,
            "layout": "IPY_MODEL_39931738e7be46c89a7669e70273e04b",
            "max": 377664473,
            "min": 0,
            "orientation": "horizontal",
            "style": "IPY_MODEL_effaba120dc94af5b60a5618dbdd523a",
            "value": 377664473
          }
        },
        "f41ed0183aee472ebf7a7c82b5a005dd": {
          "model_module": "@jupyter-widgets/controls",
          "model_name": "HTMLModel",
          "model_module_version": "1.5.0",
          "state": {
            "_dom_classes": [],
            "_model_module": "@jupyter-widgets/controls",
            "_model_module_version": "1.5.0",
            "_model_name": "HTMLModel",
            "_view_count": null,
            "_view_module": "@jupyter-widgets/controls",
            "_view_module_version": "1.5.0",
            "_view_name": "HTMLView",
            "description": "",
            "description_tooltip": null,
            "layout": "IPY_MODEL_39fbb76c9f22416fa18eb278763805be",
            "placeholder": "​",
            "style": "IPY_MODEL_d25f852a84704fd093e48d83e90dba10",
            "value": " 360M/360M [00:05&lt;00:00, 105MB/s]"
          }
        },
        "2613df5d95cb4dd2ac3345b18f3a531e": {
          "model_module": "@jupyter-widgets/base",
          "model_name": "LayoutModel",
          "model_module_version": "1.2.0",
          "state": {
            "_model_module": "@jupyter-widgets/base",
            "_model_module_version": "1.2.0",
            "_model_name": "LayoutModel",
            "_view_count": null,
            "_view_module": "@jupyter-widgets/base",
            "_view_module_version": "1.2.0",
            "_view_name": "LayoutView",
            "align_content": null,
            "align_items": null,
            "align_self": null,
            "border": null,
            "bottom": null,
            "display": null,
            "flex": null,
            "flex_flow": null,
            "grid_area": null,
            "grid_auto_columns": null,
            "grid_auto_flow": null,
            "grid_auto_rows": null,
            "grid_column": null,
            "grid_gap": null,
            "grid_row": null,
            "grid_template_areas": null,
            "grid_template_columns": null,
            "grid_template_rows": null,
            "height": null,
            "justify_content": null,
            "justify_items": null,
            "left": null,
            "margin": null,
            "max_height": null,
            "max_width": null,
            "min_height": null,
            "min_width": null,
            "object_fit": null,
            "object_position": null,
            "order": null,
            "overflow": null,
            "overflow_x": null,
            "overflow_y": null,
            "padding": null,
            "right": null,
            "top": null,
            "visibility": null,
            "width": null
          }
        },
        "f07b86980bd44679a260e2b342ee3e25": {
          "model_module": "@jupyter-widgets/base",
          "model_name": "LayoutModel",
          "model_module_version": "1.2.0",
          "state": {
            "_model_module": "@jupyter-widgets/base",
            "_model_module_version": "1.2.0",
            "_model_name": "LayoutModel",
            "_view_count": null,
            "_view_module": "@jupyter-widgets/base",
            "_view_module_version": "1.2.0",
            "_view_name": "LayoutView",
            "align_content": null,
            "align_items": null,
            "align_self": null,
            "border": null,
            "bottom": null,
            "display": null,
            "flex": null,
            "flex_flow": null,
            "grid_area": null,
            "grid_auto_columns": null,
            "grid_auto_flow": null,
            "grid_auto_rows": null,
            "grid_column": null,
            "grid_gap": null,
            "grid_row": null,
            "grid_template_areas": null,
            "grid_template_columns": null,
            "grid_template_rows": null,
            "height": null,
            "justify_content": null,
            "justify_items": null,
            "left": null,
            "margin": null,
            "max_height": null,
            "max_width": null,
            "min_height": null,
            "min_width": null,
            "object_fit": null,
            "object_position": null,
            "order": null,
            "overflow": null,
            "overflow_x": null,
            "overflow_y": null,
            "padding": null,
            "right": null,
            "top": null,
            "visibility": null,
            "width": null
          }
        },
        "2829dcaf7dc24cfd8be776409f608013": {
          "model_module": "@jupyter-widgets/controls",
          "model_name": "DescriptionStyleModel",
          "model_module_version": "1.5.0",
          "state": {
            "_model_module": "@jupyter-widgets/controls",
            "_model_module_version": "1.5.0",
            "_model_name": "DescriptionStyleModel",
            "_view_count": null,
            "_view_module": "@jupyter-widgets/base",
            "_view_module_version": "1.2.0",
            "_view_name": "StyleView",
            "description_width": ""
          }
        },
        "39931738e7be46c89a7669e70273e04b": {
          "model_module": "@jupyter-widgets/base",
          "model_name": "LayoutModel",
          "model_module_version": "1.2.0",
          "state": {
            "_model_module": "@jupyter-widgets/base",
            "_model_module_version": "1.2.0",
            "_model_name": "LayoutModel",
            "_view_count": null,
            "_view_module": "@jupyter-widgets/base",
            "_view_module_version": "1.2.0",
            "_view_name": "LayoutView",
            "align_content": null,
            "align_items": null,
            "align_self": null,
            "border": null,
            "bottom": null,
            "display": null,
            "flex": null,
            "flex_flow": null,
            "grid_area": null,
            "grid_auto_columns": null,
            "grid_auto_flow": null,
            "grid_auto_rows": null,
            "grid_column": null,
            "grid_gap": null,
            "grid_row": null,
            "grid_template_areas": null,
            "grid_template_columns": null,
            "grid_template_rows": null,
            "height": null,
            "justify_content": null,
            "justify_items": null,
            "left": null,
            "margin": null,
            "max_height": null,
            "max_width": null,
            "min_height": null,
            "min_width": null,
            "object_fit": null,
            "object_position": null,
            "order": null,
            "overflow": null,
            "overflow_x": null,
            "overflow_y": null,
            "padding": null,
            "right": null,
            "top": null,
            "visibility": null,
            "width": null
          }
        },
        "effaba120dc94af5b60a5618dbdd523a": {
          "model_module": "@jupyter-widgets/controls",
          "model_name": "ProgressStyleModel",
          "model_module_version": "1.5.0",
          "state": {
            "_model_module": "@jupyter-widgets/controls",
            "_model_module_version": "1.5.0",
            "_model_name": "ProgressStyleModel",
            "_view_count": null,
            "_view_module": "@jupyter-widgets/base",
            "_view_module_version": "1.2.0",
            "_view_name": "StyleView",
            "bar_color": null,
            "description_width": ""
          }
        },
        "39fbb76c9f22416fa18eb278763805be": {
          "model_module": "@jupyter-widgets/base",
          "model_name": "LayoutModel",
          "model_module_version": "1.2.0",
          "state": {
            "_model_module": "@jupyter-widgets/base",
            "_model_module_version": "1.2.0",
            "_model_name": "LayoutModel",
            "_view_count": null,
            "_view_module": "@jupyter-widgets/base",
            "_view_module_version": "1.2.0",
            "_view_name": "LayoutView",
            "align_content": null,
            "align_items": null,
            "align_self": null,
            "border": null,
            "bottom": null,
            "display": null,
            "flex": null,
            "flex_flow": null,
            "grid_area": null,
            "grid_auto_columns": null,
            "grid_auto_flow": null,
            "grid_auto_rows": null,
            "grid_column": null,
            "grid_gap": null,
            "grid_row": null,
            "grid_template_areas": null,
            "grid_template_columns": null,
            "grid_template_rows": null,
            "height": null,
            "justify_content": null,
            "justify_items": null,
            "left": null,
            "margin": null,
            "max_height": null,
            "max_width": null,
            "min_height": null,
            "min_width": null,
            "object_fit": null,
            "object_position": null,
            "order": null,
            "overflow": null,
            "overflow_x": null,
            "overflow_y": null,
            "padding": null,
            "right": null,
            "top": null,
            "visibility": null,
            "width": null
          }
        },
        "d25f852a84704fd093e48d83e90dba10": {
          "model_module": "@jupyter-widgets/controls",
          "model_name": "DescriptionStyleModel",
          "model_module_version": "1.5.0",
          "state": {
            "_model_module": "@jupyter-widgets/controls",
            "_model_module_version": "1.5.0",
            "_model_name": "DescriptionStyleModel",
            "_view_count": null,
            "_view_module": "@jupyter-widgets/base",
            "_view_module_version": "1.2.0",
            "_view_name": "StyleView",
            "description_width": ""
          }
        }
      }
    }
  },
  "cells": [
    {
      "cell_type": "code",
      "execution_count": null,
      "metadata": {
        "id": "5RWxckR9qKYK"
      },
      "outputs": [],
      "source": [
        "%%capture\n",
        "!pip install datasets\n",
        "# !pip install transformers\n",
        "# !pip install torchaudio\n",
        "\n",
        "from datasets import load_dataset, load_metric, Audio\n",
        "import pandas as pd\n",
        "import pickle\n",
        "\n",
        "from google.colab import drive\n",
        "drive.mount('/content/drive')\n",
        "import matplotlib.pyplot as plt\n"
      ]
    },
    {
      "cell_type": "code",
      "source": [
        "import torch\n",
        "import torchaudio\n",
        "import os"
      ],
      "metadata": {
        "id": "y9DT9IG2cqsH"
      },
      "execution_count": null,
      "outputs": []
    },
    {
      "cell_type": "code",
      "source": [
        "languages = [\n",
        "  'ca',\n",
        "  'de',\n",
        "  'en',\n",
        "  'fr',\n",
        "  'zh-CN',\n",
        "  'es',\n",
        "  'eu',\n",
        "  ]\n",
        "\n"
      ],
      "metadata": {
        "id": "eO5_veoxqPDK"
      },
      "execution_count": null,
      "outputs": []
    },
    {
      "cell_type": "code",
      "source": [
        "from google.colab import drive\n",
        "drive.mount('/content/drive')"
      ],
      "metadata": {
        "id": "HWsw443PfiwS"
      },
      "execution_count": null,
      "outputs": []
    },
    {
      "cell_type": "code",
      "source": [
        "new_dict = {}\n",
        "\n",
        "for lan in languages:\n",
        "  y = []\n",
        "  x = []\n",
        "  dataset = load_dataset(\"common_voice\", lan,split=\"train\", streaming=True)\n",
        "  dataset = dataset.cast_column(\"audio\", Audio(sampling_rate=16_000))\n",
        "  dataset_iter = iter(dataset)\n",
        "\n",
        "  i = 0\n",
        "  counter = 0\n",
        "  data_size = 3000\n",
        "  axe_list = []\n",
        "\n",
        "  while True:\n",
        "    counter += 1\n",
        "    try:\n",
        "      sample = next(dataset_iter)\n",
        "\n",
        "    except:\n",
        "        print(\"~!!!!!!!!\")\n",
        "        \n",
        "\n",
        "  \n",
        "    y.append(lan)\n",
        "    x.append(sample['audio']['array'])\n",
        "\n",
        "    if i %500 == 0:\n",
        "      print(lan)\n",
        "    \n",
        "    i += 1\n",
        "    if i == 2000:\n",
        "      print(str(lan)+\" is good\")\n",
        "      print(axe_list)\n",
        "      new_dict[lan] = axe_list\n",
        "      break\n",
        "\n",
        "\n",
        "  pkl_out_x = open(\"/content/drive/MyDrive/1_new/lbw/\"+str(lan)+ \"_x.pickle\", \"wb\")\n",
        "  pickle.dump(x, pkl_out_x)\n",
        "  pkl_out_x.close()\n",
        "\n",
        "  pkl_out_y = open(\"/content/drive/MyDrive/1_new/lbw/\"+str(lan)+ \"_y.pickle\", \"wb\")\n",
        "  pickle.dump(y, pkl_out_y)\n",
        "  pkl_out_y.close()\n",
        "\n",
        "   \n",
        "  "
      ],
      "metadata": {
        "colab": {
          "base_uri": "https://localhost:8080/",
          "height": 795,
          "referenced_widgets": [
            "d3b2412c47db4cdca8e2979e6392a659",
            "401da3f91e5743908652ae3cff0901d2",
            "d80ee52f98cd4df8b1e81d98885efb39",
            "0f9b7244cb0a44878ed9d5b811933027",
            "b7f4c54768ed41d9b9b443ead087ae9c",
            "7867c0a421ce4429a4ae00be01a95921",
            "adaf273aaecf435399ac519eb54a0aec",
            "4e1ee03e815843a3baa16b0485af4443",
            "9c1058577c894a40ae99b860ce51b429",
            "23317ce70c8f4cf49fe4ac1891f9f5bf",
            "8a452c38a8a54e87838c323d405de106",
            "baa76691b96744008598efbf7c5d4299",
            "6db4dec9e0084d05adc35f360b4b8aa5",
            "08768e143d4a4fdfa823c980fcb953c3",
            "7ac08f6fb9ab408ea967827b0bb6fc2a",
            "75d184201cdb4557801a42d82a69fe5f",
            "9b6e9b4bed8a4b9fac99526c5e30a845",
            "37c5bfef3ada47c3ac159e4f5349ff6c",
            "34f367ac4e19436aaad4dc28ce5a7f56",
            "80f9a42bce1e4c5d803466f44802f6af",
            "3d8332de7ec94fcc9b5d3a5849a3b253",
            "5a6993fe342541a7a3f1a9c7dd8c85a6"
          ]
        },
        "id": "wvzhRANQqyT6",
        "outputId": "45281ac7-2899-4cd6-8d56-53085321ccd4"
      },
      "execution_count": null,
      "outputs": [
        {
          "output_type": "display_data",
          "data": {
            "text/plain": [
              "Downloading builder script:   0%|          | 0.00/5.21k [00:00<?, ?B/s]"
            ],
            "application/vnd.jupyter.widget-view+json": {
              "version_major": 2,
              "version_minor": 0,
              "model_id": "d3b2412c47db4cdca8e2979e6392a659"
            }
          },
          "metadata": {}
        },
        {
          "output_type": "display_data",
          "data": {
            "text/plain": [
              "Downloading metadata:   0%|          | 0.00/11.5k [00:00<?, ?B/s]"
            ],
            "application/vnd.jupyter.widget-view+json": {
              "version_major": 2,
              "version_minor": 0,
              "model_id": "baa76691b96744008598efbf7c5d4299"
            }
          },
          "metadata": {}
        },
        {
          "output_type": "stream",
          "name": "stdout",
          "text": [
            "ca\n",
            "ca\n",
            "ca\n",
            "ca\n",
            "ca is good\n",
            "[]\n",
            "de\n",
            "de\n",
            "de\n",
            "de\n",
            "de is good\n",
            "[]\n",
            "en\n",
            "en\n",
            "en\n",
            "en\n",
            "en is good\n",
            "[]\n",
            "fr\n",
            "fr\n",
            "fr\n",
            "fr\n",
            "fr is good\n",
            "[]\n",
            "zh-CN\n",
            "zh-CN\n",
            "zh-CN\n",
            "zh-CN\n",
            "zh-CN is good\n",
            "[]\n",
            "es\n",
            "es\n",
            "es\n",
            "es\n",
            "es is good\n",
            "[]\n",
            "eu\n",
            "eu\n",
            "eu\n",
            "eu\n",
            "eu is good\n",
            "[]\n"
          ]
        }
      ]
    },
    {
      "cell_type": "code",
      "source": [
        ""
      ],
      "metadata": {
        "id": "EOwmd_dJu-s_"
      },
      "execution_count": null,
      "outputs": []
    },
    {
      "cell_type": "code",
      "source": [
        "os.chdir(\"/content/drive/MyDrive/1_new/lbw\")\n",
        "filepash = os.listdir()\n",
        "filepash"
      ],
      "metadata": {
        "colab": {
          "base_uri": "https://localhost:8080/"
        },
        "id": "bmgVdJKi_qoV",
        "outputId": "1941b605-a440-4205-8c2f-9df3accd17e8"
      },
      "execution_count": null,
      "outputs": [
        {
          "output_type": "execute_result",
          "data": {
            "text/plain": [
              "['ca_x.pickle',\n",
              " 'ca_y.pickle',\n",
              " 'de_x.pickle',\n",
              " 'de_y.pickle',\n",
              " 'en_x.pickle',\n",
              " 'en_y.pickle',\n",
              " 'fr_x.pickle',\n",
              " 'fr_y.pickle',\n",
              " 'zh-CN_x.pickle',\n",
              " 'zh-CN_y.pickle',\n",
              " 'es_x.pickle',\n",
              " 'es_y.pickle',\n",
              " 'eu_x.pickle',\n",
              " 'eu_y.pickle']"
            ]
          },
          "metadata": {},
          "execution_count": 4
        }
      ]
    },
    {
      "cell_type": "code",
      "source": [
        "y = []\n",
        "x = []\n",
        "for z in filepash:\n",
        "  if \"_y\" in z:\n",
        "    pickle_in_y = open(\"/content/drive/MyDrive/1_new/lbw/\"+ z,\"rb\")\n",
        "    y_load = pickle.load(pickle_in_y)\n",
        "    y.extend(y_load)\n",
        "  else:\n",
        "    pickle_in_x = open(\"/content/drive/MyDrive/1_new/lbw/\" + z,\"rb\")\n",
        "    x_load = pickle.load(pickle_in_x)\n",
        "    x.extend(x_load)"
      ],
      "metadata": {
        "id": "KIDhkh8bQxjz"
      },
      "execution_count": null,
      "outputs": []
    },
    {
      "cell_type": "code",
      "source": [
        "data = []\n",
        "for i in range(len(x)):\n",
        "  if len(x[i]) >= 48044:\n",
        "    data.append((x[i][44:], y[i]))\n",
        "\n"
      ],
      "metadata": {
        "id": "yOi-GXw9dLmy"
      },
      "execution_count": null,
      "outputs": []
    },
    {
      "cell_type": "code",
      "source": [
        "print(len(data))\n",
        "print(data[1])"
      ],
      "metadata": {
        "colab": {
          "base_uri": "https://localhost:8080/"
        },
        "id": "HSktGHSbisyu",
        "outputId": "adfd8428-c26a-4aca-9b33-6d3e5012ee2e"
      },
      "execution_count": null,
      "outputs": [
        {
          "output_type": "stream",
          "name": "stdout",
          "text": [
            "11645\n",
            "(array([ 0.0000000e+00,  0.0000000e+00,  0.0000000e+00, ...,\n",
            "        5.4458658e-05, -1.5439701e-04,  3.4494521e-04], dtype=float32), 'ca')\n"
          ]
        }
      ]
    },
    {
      "cell_type": "code",
      "source": [
        "import random\n",
        "random.shuffle(data)\n",
        "\n",
        "x_train_split = []\n",
        "y_train_split = []\n",
        "x_test_split = []\n",
        "y_test_split = []\n",
        "\n",
        "x_train_no_split, y_train_no_split = zip(*data[:int(len(data)*0.8)])\n",
        "x_test_no_split, y_test_no_split = zip(*data[int(len(data)*0.8):])\n",
        "for i in range(len(x_train_no_split)):\n",
        "  temp_x = x_train_no_split[i]\n",
        "  temp_y = y_train_no_split[i]\n",
        "  splits = int(len(temp_x)/48000)\n",
        "  for j in range(splits):\n",
        "    x_train_split.append(temp_x[j*48000:(j+1)*48000])\n",
        "    y_train_split.append(temp_y)\n",
        "\n",
        "for i in range(len(x_test_no_split)):\n",
        "  temp_x = x_test_no_split[i]\n",
        "  temp_y = y_test_no_split[i]\n",
        "  splits = int(len(temp_x)/48000)\n",
        "  for j in range(splits):\n",
        "    x_test_split.append(temp_x[j*48000:(j+1)*48000])\n",
        "    y_test_split.append(temp_y)\n"
      ],
      "metadata": {
        "id": "6TofNvu5Utpz"
      },
      "execution_count": null,
      "outputs": []
    },
    {
      "cell_type": "code",
      "source": [
        "print(len(x_test_split[0]))"
      ],
      "metadata": {
        "colab": {
          "base_uri": "https://localhost:8080/"
        },
        "id": "W4ztFYN3rNeB",
        "outputId": "a5c13e18-2a27-4060-acf8-6a8749b4262d"
      },
      "execution_count": null,
      "outputs": [
        {
          "output_type": "stream",
          "name": "stdout",
          "text": [
            "48000\n"
          ]
        }
      ]
    },
    {
      "cell_type": "code",
      "source": [
        "device = torch.device(\"cuda\" if torch.cuda.is_available() else \"cpu\")"
      ],
      "metadata": {
        "id": "W6a5p0WPeDX6"
      },
      "execution_count": null,
      "outputs": []
    },
    {
      "cell_type": "code",
      "source": [
        "x_train_tensor = [torch.tensor([t]).to(device) for t in x_train_split]\n",
        "x_test_tensor = [torch.tensor([t]).to(device) for t in x_test_split]"
      ],
      "metadata": {
        "id": "R6bmjpKTW_MR",
        "colab": {
          "base_uri": "https://localhost:8080/"
        },
        "outputId": "466c8048-d666-4592-d483-9d4faca61e64"
      },
      "execution_count": null,
      "outputs": [
        {
          "output_type": "stream",
          "name": "stderr",
          "text": [
            "/usr/local/lib/python3.7/dist-packages/ipykernel_launcher.py:1: UserWarning: Creating a tensor from a list of numpy.ndarrays is extremely slow. Please consider converting the list to a single numpy.ndarray with numpy.array() before converting to a tensor. (Triggered internally at  ../torch/csrc/utils/tensor_new.cpp:201.)\n",
            "  \"\"\"Entry point for launching an IPython kernel.\n"
          ]
        }
      ]
    },
    {
      "cell_type": "code",
      "source": [
        "bundle = torchaudio.pipelines.WAV2VEC2_ASR_BASE_960H\n",
        "model = bundle.get_model().to(device)\n",
        "x_train_tensor[0].shape"
      ],
      "metadata": {
        "id": "vpSR693WPoKI",
        "colab": {
          "base_uri": "https://localhost:8080/",
          "height": 103,
          "referenced_widgets": [
            "e0009a1ddd6e408188edfefb15abde74",
            "40f28904c00b4dbe837bb280252018d6",
            "70655c56d0a2499db701fa5e1fe06c75",
            "f41ed0183aee472ebf7a7c82b5a005dd",
            "2613df5d95cb4dd2ac3345b18f3a531e",
            "f07b86980bd44679a260e2b342ee3e25",
            "2829dcaf7dc24cfd8be776409f608013",
            "39931738e7be46c89a7669e70273e04b",
            "effaba120dc94af5b60a5618dbdd523a",
            "39fbb76c9f22416fa18eb278763805be",
            "d25f852a84704fd093e48d83e90dba10"
          ]
        },
        "outputId": "3fb6f14e-3885-49a0-a9f3-51a7d88297e2"
      },
      "execution_count": null,
      "outputs": [
        {
          "output_type": "stream",
          "name": "stderr",
          "text": [
            "Downloading: \"https://download.pytorch.org/torchaudio/models/wav2vec2_fairseq_base_ls960_asr_ls960.pth\" to /root/.cache/torch/hub/checkpoints/wav2vec2_fairseq_base_ls960_asr_ls960.pth\n"
          ]
        },
        {
          "output_type": "display_data",
          "data": {
            "text/plain": [
              "  0%|          | 0.00/360M [00:00<?, ?B/s]"
            ],
            "application/vnd.jupyter.widget-view+json": {
              "version_major": 2,
              "version_minor": 0,
              "model_id": "e0009a1ddd6e408188edfefb15abde74"
            }
          },
          "metadata": {}
        },
        {
          "output_type": "execute_result",
          "data": {
            "text/plain": [
              "torch.Size([1, 48000])"
            ]
          },
          "metadata": {},
          "execution_count": 12
        }
      ]
    },
    {
      "cell_type": "code",
      "source": [
        "x_train_w2v = []\n",
        "x_test_w2v = []\n",
        "y_train_w2v = []\n",
        "y_test_w2v = []\n"
      ],
      "metadata": {
        "id": "lzESdbb6tkOj"
      },
      "execution_count": null,
      "outputs": []
    },
    {
      "cell_type": "code",
      "source": [
        "counter = -1\n",
        "while counter != len(x_train_tensor):\n",
        "  for w in range(1000):\n",
        "    counter +=1 \n",
        "    with torch.inference_mode():\n",
        "      try:\n",
        "        emission, _ = model(x_train_tensor[counter])\n",
        "        x_train_w2v.append(emission.to(\"cpu\"))\n",
        "        if counter % 100 == 0:\n",
        "          print(counter)\n",
        "      except:\n",
        "        print(\"break!!!\")\n",
        "        break\n",
        "# pkl_out_x = open(\"/content/drive/MyDrive/1_new/law/all_x_test.pickle\", \"wb\")\n",
        "# pickle.dump(x_test_w2v, pkl_out_x)\n",
        "# pkl_out_x.close()\n",
        "# x_test_w2v = []\n",
        "  \n",
        "print(\"save\")\n",
        "\n"
      ],
      "metadata": {
        "colab": {
          "base_uri": "https://localhost:8080/"
        },
        "id": "86ebYb_hi3aX",
        "outputId": "bb6d76b6-262f-4486-b408-1f7f02b30609"
      },
      "execution_count": null,
      "outputs": [
        {
          "output_type": "stream",
          "name": "stdout",
          "text": [
            "0\n",
            "100\n",
            "200\n",
            "300\n",
            "400\n",
            "500\n",
            "600\n",
            "700\n",
            "800\n",
            "900\n",
            "1000\n",
            "1100\n",
            "1200\n",
            "1300\n",
            "1400\n",
            "1500\n",
            "1600\n",
            "1700\n",
            "1800\n",
            "1900\n",
            "2000\n",
            "2100\n",
            "2200\n",
            "2300\n",
            "2400\n",
            "2500\n",
            "2600\n",
            "2700\n",
            "2800\n",
            "2900\n",
            "3000\n",
            "3100\n",
            "3200\n",
            "3300\n",
            "3400\n",
            "3500\n",
            "3600\n",
            "3700\n",
            "3800\n",
            "3900\n",
            "4000\n",
            "4100\n",
            "4200\n",
            "4300\n",
            "4400\n",
            "4500\n",
            "4600\n",
            "4700\n",
            "4800\n",
            "4900\n",
            "5000\n",
            "5100\n",
            "5200\n",
            "5300\n",
            "5400\n",
            "5500\n",
            "5600\n",
            "5700\n",
            "5800\n",
            "5900\n",
            "6000\n",
            "6100\n",
            "6200\n",
            "6300\n",
            "6400\n",
            "6500\n",
            "6600\n",
            "6700\n",
            "6800\n",
            "6900\n",
            "7000\n",
            "7100\n",
            "7200\n",
            "7300\n",
            "7400\n",
            "7500\n",
            "7600\n",
            "7700\n",
            "7800\n",
            "7900\n",
            "8000\n",
            "8100\n",
            "8200\n",
            "8300\n",
            "8400\n",
            "8500\n",
            "8600\n",
            "8700\n",
            "8800\n",
            "8900\n",
            "9000\n",
            "9100\n",
            "9200\n",
            "9300\n",
            "9400\n",
            "9500\n",
            "9600\n",
            "9700\n",
            "9800\n",
            "9900\n",
            "10000\n",
            "10100\n",
            "10200\n",
            "10300\n",
            "10400\n",
            "10500\n",
            "10600\n",
            "10700\n",
            "10800\n",
            "10900\n",
            "11000\n",
            "11100\n",
            "11200\n",
            "11300\n",
            "11400\n",
            "11500\n",
            "11600\n",
            "11700\n",
            "11800\n",
            "11900\n",
            "break!!!\n",
            "save\n"
          ]
        }
      ]
    },
    {
      "cell_type": "code",
      "source": [
        "pkl_out_x = open(\"/content/drive/MyDrive/1_new/law/all_y_train.pickle\", \"wb\")\n",
        "pickle.dump(y_train_split, pkl_out_x)\n",
        "pkl_out_x.close()"
      ],
      "metadata": {
        "id": "fgL5sQmugBLC"
      },
      "execution_count": null,
      "outputs": []
    },
    {
      "cell_type": "code",
      "source": [
        "pkl_out_x = open(\"/content/drive/MyDrive/1_new/law/all_x_train.pickle\", \"wb\")\n",
        "pickle.dump(x_train_w2v, pkl_out_x)\n",
        "pkl_out_x.close()\n",
        "\n"
      ],
      "metadata": {
        "id": "RSf0axfLrzAI"
      },
      "execution_count": null,
      "outputs": []
    },
    {
      "cell_type": "code",
      "source": [
        ""
      ],
      "metadata": {
        "id": "tb5Y1sp56Dyk"
      },
      "execution_count": null,
      "outputs": []
    },
    {
      "cell_type": "code",
      "source": [
        "counter = -1\n",
        "while counter != len(x_test_tensor):\n",
        "  for w in range(1000):\n",
        "    counter +=1 \n",
        "    with torch.inference_mode():\n",
        "      try:\n",
        "        emission, _ = model(x_test_tensor[counter])\n",
        "        x_test_w2v.append(emission.to(\"cpu\"))\n",
        "        if counter % 100 == 0:\n",
        "          print(counter)\n",
        "      except:\n",
        "        print(\"break!!!\")\n",
        "        break\n",
        "# pkl_out_x = open(\"/content/drive/MyDrive/1111/lan_pkl/all_x_test.pickle\", \"wb\")\n",
        "# pickle.dump(x_test_w2v, pkl_out_x)\n",
        "# pkl_out_x.close()\n",
        "# x_test_w2v = []\n",
        "  \n",
        "print(\"save\")\n"
      ],
      "metadata": {
        "id": "STRJ6oicHOow",
        "colab": {
          "base_uri": "https://localhost:8080/"
        },
        "outputId": "2248945f-51ca-40e7-8fad-640739d6af8b"
      },
      "execution_count": null,
      "outputs": [
        {
          "output_type": "stream",
          "name": "stdout",
          "text": [
            "0\n",
            "100\n",
            "200\n",
            "300\n",
            "400\n",
            "500\n",
            "600\n",
            "700\n",
            "800\n",
            "900\n",
            "1000\n",
            "1100\n",
            "1200\n",
            "1300\n",
            "1400\n",
            "1500\n",
            "1600\n",
            "1700\n",
            "1800\n",
            "1900\n",
            "2000\n",
            "2100\n",
            "2200\n",
            "2300\n",
            "2400\n",
            "2500\n",
            "2600\n",
            "2700\n",
            "2800\n",
            "2900\n",
            "break!!!\n",
            "save\n"
          ]
        }
      ]
    },
    {
      "cell_type": "code",
      "source": [
        "pkl_out_x = open(\"/content/drive/MyDrive/1_new/law/all_y_test.pickle\", \"wb\")\n",
        "pickle.dump(y_test_split, pkl_out_x)\n",
        "pkl_out_x.close()\n",
        "\n",
        "pkl_out_x = open(\"/content/drive/MyDrive/1_new/law/all_x_test.pickle\", \"wb\")\n",
        "pickle.dump(x_test_w2v, pkl_out_x)\n",
        "pkl_out_x.close()\n",
        "\n"
      ],
      "metadata": {
        "id": "Pm-rf3znr7CR"
      },
      "execution_count": null,
      "outputs": []
    },
    {
      "cell_type": "code",
      "source": [
        ""
      ],
      "metadata": {
        "id": "kMxgzw69r7aA"
      },
      "execution_count": null,
      "outputs": []
    },
    {
      "cell_type": "code",
      "source": [
        ""
      ],
      "metadata": {
        "id": "NKI53WBssrqD"
      },
      "execution_count": null,
      "outputs": []
    }
  ]
}