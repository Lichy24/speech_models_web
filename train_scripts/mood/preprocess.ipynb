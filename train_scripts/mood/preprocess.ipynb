{
  "nbformat": 4,
  "nbformat_minor": 0,
  "metadata": {
    "colab": {
      "name": "preprocess.ipynb",
      "provenance": [],
      "machine_shape": "hm",
      "authorship_tag": "ABX9TyOMCZawFpGKavQRZk+59tUs",
      "include_colab_link": true
    },
    "kernelspec": {
      "name": "python3",
      "display_name": "Python 3"
    },
    "language_info": {
      "name": "python"
    },
    "accelerator": "GPU",
    "widgets": {
      "application/vnd.jupyter.widget-state+json": {
        "737bd0d01f9b4d369f9d74e8f39d927f": {
          "model_module": "@jupyter-widgets/controls",
          "model_name": "HBoxModel",
          "model_module_version": "1.5.0",
          "state": {
            "_dom_classes": [],
            "_model_module": "@jupyter-widgets/controls",
            "_model_module_version": "1.5.0",
            "_model_name": "HBoxModel",
            "_view_count": null,
            "_view_module": "@jupyter-widgets/controls",
            "_view_module_version": "1.5.0",
            "_view_name": "HBoxView",
            "box_style": "",
            "children": [
              "IPY_MODEL_bc38122a2bf1409ab6c32210f2a9e6cc",
              "IPY_MODEL_b535646d542240d296b53695aac10ff6",
              "IPY_MODEL_a1bd084144f942aa960ae77d3ef055aa"
            ],
            "layout": "IPY_MODEL_4f68a2c2459044dbb3386e74430146f8"
          }
        },
        "bc38122a2bf1409ab6c32210f2a9e6cc": {
          "model_module": "@jupyter-widgets/controls",
          "model_name": "HTMLModel",
          "model_module_version": "1.5.0",
          "state": {
            "_dom_classes": [],
            "_model_module": "@jupyter-widgets/controls",
            "_model_module_version": "1.5.0",
            "_model_name": "HTMLModel",
            "_view_count": null,
            "_view_module": "@jupyter-widgets/controls",
            "_view_module_version": "1.5.0",
            "_view_name": "HTMLView",
            "description": "",
            "description_tooltip": null,
            "layout": "IPY_MODEL_15c5cf7728f446d2957bdf91aa69f837",
            "placeholder": "​",
            "style": "IPY_MODEL_74c3990c8b7e4fc49785c30a1cbfc0eb",
            "value": "100%"
          }
        },
        "b535646d542240d296b53695aac10ff6": {
          "model_module": "@jupyter-widgets/controls",
          "model_name": "FloatProgressModel",
          "model_module_version": "1.5.0",
          "state": {
            "_dom_classes": [],
            "_model_module": "@jupyter-widgets/controls",
            "_model_module_version": "1.5.0",
            "_model_name": "FloatProgressModel",
            "_view_count": null,
            "_view_module": "@jupyter-widgets/controls",
            "_view_module_version": "1.5.0",
            "_view_name": "ProgressView",
            "bar_style": "success",
            "description": "",
            "description_tooltip": null,
            "layout": "IPY_MODEL_a7c74b3b2983456086aa211f389ae548",
            "max": 377664473,
            "min": 0,
            "orientation": "horizontal",
            "style": "IPY_MODEL_991e294da5894ee0a04753021b041936",
            "value": 377664473
          }
        },
        "a1bd084144f942aa960ae77d3ef055aa": {
          "model_module": "@jupyter-widgets/controls",
          "model_name": "HTMLModel",
          "model_module_version": "1.5.0",
          "state": {
            "_dom_classes": [],
            "_model_module": "@jupyter-widgets/controls",
            "_model_module_version": "1.5.0",
            "_model_name": "HTMLModel",
            "_view_count": null,
            "_view_module": "@jupyter-widgets/controls",
            "_view_module_version": "1.5.0",
            "_view_name": "HTMLView",
            "description": "",
            "description_tooltip": null,
            "layout": "IPY_MODEL_f6f85965184a4de4a597d5b3ec2b52fe",
            "placeholder": "​",
            "style": "IPY_MODEL_03b5c4b1fdfc443fac5aa08ff2b2e134",
            "value": " 360M/360M [00:02&lt;00:00, 171MB/s]"
          }
        },
        "4f68a2c2459044dbb3386e74430146f8": {
          "model_module": "@jupyter-widgets/base",
          "model_name": "LayoutModel",
          "model_module_version": "1.2.0",
          "state": {
            "_model_module": "@jupyter-widgets/base",
            "_model_module_version": "1.2.0",
            "_model_name": "LayoutModel",
            "_view_count": null,
            "_view_module": "@jupyter-widgets/base",
            "_view_module_version": "1.2.0",
            "_view_name": "LayoutView",
            "align_content": null,
            "align_items": null,
            "align_self": null,
            "border": null,
            "bottom": null,
            "display": null,
            "flex": null,
            "flex_flow": null,
            "grid_area": null,
            "grid_auto_columns": null,
            "grid_auto_flow": null,
            "grid_auto_rows": null,
            "grid_column": null,
            "grid_gap": null,
            "grid_row": null,
            "grid_template_areas": null,
            "grid_template_columns": null,
            "grid_template_rows": null,
            "height": null,
            "justify_content": null,
            "justify_items": null,
            "left": null,
            "margin": null,
            "max_height": null,
            "max_width": null,
            "min_height": null,
            "min_width": null,
            "object_fit": null,
            "object_position": null,
            "order": null,
            "overflow": null,
            "overflow_x": null,
            "overflow_y": null,
            "padding": null,
            "right": null,
            "top": null,
            "visibility": null,
            "width": null
          }
        },
        "15c5cf7728f446d2957bdf91aa69f837": {
          "model_module": "@jupyter-widgets/base",
          "model_name": "LayoutModel",
          "model_module_version": "1.2.0",
          "state": {
            "_model_module": "@jupyter-widgets/base",
            "_model_module_version": "1.2.0",
            "_model_name": "LayoutModel",
            "_view_count": null,
            "_view_module": "@jupyter-widgets/base",
            "_view_module_version": "1.2.0",
            "_view_name": "LayoutView",
            "align_content": null,
            "align_items": null,
            "align_self": null,
            "border": null,
            "bottom": null,
            "display": null,
            "flex": null,
            "flex_flow": null,
            "grid_area": null,
            "grid_auto_columns": null,
            "grid_auto_flow": null,
            "grid_auto_rows": null,
            "grid_column": null,
            "grid_gap": null,
            "grid_row": null,
            "grid_template_areas": null,
            "grid_template_columns": null,
            "grid_template_rows": null,
            "height": null,
            "justify_content": null,
            "justify_items": null,
            "left": null,
            "margin": null,
            "max_height": null,
            "max_width": null,
            "min_height": null,
            "min_width": null,
            "object_fit": null,
            "object_position": null,
            "order": null,
            "overflow": null,
            "overflow_x": null,
            "overflow_y": null,
            "padding": null,
            "right": null,
            "top": null,
            "visibility": null,
            "width": null
          }
        },
        "74c3990c8b7e4fc49785c30a1cbfc0eb": {
          "model_module": "@jupyter-widgets/controls",
          "model_name": "DescriptionStyleModel",
          "model_module_version": "1.5.0",
          "state": {
            "_model_module": "@jupyter-widgets/controls",
            "_model_module_version": "1.5.0",
            "_model_name": "DescriptionStyleModel",
            "_view_count": null,
            "_view_module": "@jupyter-widgets/base",
            "_view_module_version": "1.2.0",
            "_view_name": "StyleView",
            "description_width": ""
          }
        },
        "a7c74b3b2983456086aa211f389ae548": {
          "model_module": "@jupyter-widgets/base",
          "model_name": "LayoutModel",
          "model_module_version": "1.2.0",
          "state": {
            "_model_module": "@jupyter-widgets/base",
            "_model_module_version": "1.2.0",
            "_model_name": "LayoutModel",
            "_view_count": null,
            "_view_module": "@jupyter-widgets/base",
            "_view_module_version": "1.2.0",
            "_view_name": "LayoutView",
            "align_content": null,
            "align_items": null,
            "align_self": null,
            "border": null,
            "bottom": null,
            "display": null,
            "flex": null,
            "flex_flow": null,
            "grid_area": null,
            "grid_auto_columns": null,
            "grid_auto_flow": null,
            "grid_auto_rows": null,
            "grid_column": null,
            "grid_gap": null,
            "grid_row": null,
            "grid_template_areas": null,
            "grid_template_columns": null,
            "grid_template_rows": null,
            "height": null,
            "justify_content": null,
            "justify_items": null,
            "left": null,
            "margin": null,
            "max_height": null,
            "max_width": null,
            "min_height": null,
            "min_width": null,
            "object_fit": null,
            "object_position": null,
            "order": null,
            "overflow": null,
            "overflow_x": null,
            "overflow_y": null,
            "padding": null,
            "right": null,
            "top": null,
            "visibility": null,
            "width": null
          }
        },
        "991e294da5894ee0a04753021b041936": {
          "model_module": "@jupyter-widgets/controls",
          "model_name": "ProgressStyleModel",
          "model_module_version": "1.5.0",
          "state": {
            "_model_module": "@jupyter-widgets/controls",
            "_model_module_version": "1.5.0",
            "_model_name": "ProgressStyleModel",
            "_view_count": null,
            "_view_module": "@jupyter-widgets/base",
            "_view_module_version": "1.2.0",
            "_view_name": "StyleView",
            "bar_color": null,
            "description_width": ""
          }
        },
        "f6f85965184a4de4a597d5b3ec2b52fe": {
          "model_module": "@jupyter-widgets/base",
          "model_name": "LayoutModel",
          "model_module_version": "1.2.0",
          "state": {
            "_model_module": "@jupyter-widgets/base",
            "_model_module_version": "1.2.0",
            "_model_name": "LayoutModel",
            "_view_count": null,
            "_view_module": "@jupyter-widgets/base",
            "_view_module_version": "1.2.0",
            "_view_name": "LayoutView",
            "align_content": null,
            "align_items": null,
            "align_self": null,
            "border": null,
            "bottom": null,
            "display": null,
            "flex": null,
            "flex_flow": null,
            "grid_area": null,
            "grid_auto_columns": null,
            "grid_auto_flow": null,
            "grid_auto_rows": null,
            "grid_column": null,
            "grid_gap": null,
            "grid_row": null,
            "grid_template_areas": null,
            "grid_template_columns": null,
            "grid_template_rows": null,
            "height": null,
            "justify_content": null,
            "justify_items": null,
            "left": null,
            "margin": null,
            "max_height": null,
            "max_width": null,
            "min_height": null,
            "min_width": null,
            "object_fit": null,
            "object_position": null,
            "order": null,
            "overflow": null,
            "overflow_x": null,
            "overflow_y": null,
            "padding": null,
            "right": null,
            "top": null,
            "visibility": null,
            "width": null
          }
        },
        "03b5c4b1fdfc443fac5aa08ff2b2e134": {
          "model_module": "@jupyter-widgets/controls",
          "model_name": "DescriptionStyleModel",
          "model_module_version": "1.5.0",
          "state": {
            "_model_module": "@jupyter-widgets/controls",
            "_model_module_version": "1.5.0",
            "_model_name": "DescriptionStyleModel",
            "_view_count": null,
            "_view_module": "@jupyter-widgets/base",
            "_view_module_version": "1.2.0",
            "_view_name": "StyleView",
            "description_width": ""
          }
        }
      }
    }
  },
  "cells": [
    {
      "cell_type": "markdown",
      "metadata": {
        "id": "view-in-github",
        "colab_type": "text"
      },
      "source": [
        "<a href=\"https://colab.research.google.com/github/DorAzaria/Voice-Emotion-Recognition/blob/main/preprocess.ipynb\" target=\"_parent\"><img src=\"https://colab.research.google.com/assets/colab-badge.svg\" alt=\"Open In Colab\"/></a>"
      ]
    },
    {
      "cell_type": "markdown",
      "source": [
        "# **Data Preprocessing for Sentiment Analysis Recognition**\n",
        "\n",
        "By Dolev Abuhazira and Dor Azaria.\n",
        "\n",
        "\n",
        "For this project, we collected several datasets around the network.\n",
        "Finding those kinds of datasets was challenging because sentiment speech recognition isn’t popular research.\n",
        "Every dataset has a different representation for the same class labels.\n",
        "After a long search on Huggingface and Kaggle, we’ve found the following:\n",
        "\n",
        "|Dataset | Files | Speech Emotions |\n",
        "| -- | -- | -- |\n",
        "| RAVDESS |  60 trials per actor x 24 actors = 1440 files. |calm, happy, sad, angry, fearful, surprised, and disgusted. |\n",
        "| TESS | 200 trials per emotion x7 per gender x2 = 2800 files. |  anger, disgust, fear, happiness, pleasant surprise, sadness, and neutral|\n",
        "| URDU | 100 trials per emotion x4 = 400 files. | Angry, Happy, Neutral, and Sad. |"
      ],
      "metadata": {
        "id": "01LdjfZCXg9W"
      }
    },
    {
      "cell_type": "code",
      "execution_count": 1,
      "metadata": {
        "colab": {
          "base_uri": "https://localhost:8080/"
        },
        "id": "ZO5JOfpL9hiD",
        "outputId": "4af0cdd4-08fa-4f2d-fa55-4b6ad331b718"
      },
      "outputs": [
        {
          "output_type": "stream",
          "name": "stdout",
          "text": [
            "Mounted at /content/data/\n"
          ]
        }
      ],
      "source": [
        "from google.colab import drive\n",
        "drive.mount('/content/data/')"
      ]
    },
    {
      "cell_type": "markdown",
      "source": [
        "**Imports**"
      ],
      "metadata": {
        "id": "ru4q5AgG_jpA"
      }
    },
    {
      "cell_type": "code",
      "source": [
        "import numpy as np\n",
        "import pandas as pd\n",
        "import os\n",
        "import random\n",
        "import torch\n",
        "import pickle\n",
        "import torchaudio"
      ],
      "metadata": {
        "id": "pL6DmFwx_i3H"
      },
      "execution_count": 2,
      "outputs": []
    },
    {
      "cell_type": "markdown",
      "source": [
        "**Pandas DataFrame**\n",
        "\n",
        "create a dataframe 'data' - contains the following pattern:\n",
        "\n",
        "| Emotion | Path |\n",
        "| --- | --- |\n",
        "| 0 | '/path/to/wavfile0.wav' |\n",
        "| 1 | '/path/to/wavfile1.wav' |\n",
        "| 2 | '/path/to/wavfile2.wav' |\n",
        "| .. | ... |"
      ],
      "metadata": {
        "id": "LF3nZ02K_rU7"
      }
    },
    {
      "cell_type": "code",
      "source": [
        "data = pd.DataFrame(columns=['Emotion', 'Path'])"
      ],
      "metadata": {
        "id": "7BEJhPMwAjDy"
      },
      "execution_count": 3,
      "outputs": []
    },
    {
      "cell_type": "markdown",
      "source": [
        "#### ***Class Distribution***\n",
        "\n",
        "For better accuracy results, we decided to focus on 3 different class labels.\n",
        "Each class is a combination of common emotions.\n",
        "\n",
        "```distributeEmotion``` - For each audio file, we classified its label to one of the three main classes (Positive, Neutral, Negative) and added it into the Panda’s Dataframe by the following form: (Label, File_path).\n",
        "\n",
        "1. **Positive** - a mixture of Happy and Surprise.\n",
        "2. **Neutral** - a mixture of Neutral and Calm.\n",
        "3. **Negative** - a mixture of Anger, Fear, Sad, and Disgust.\n",
        "\n",
        "Each dataset represents different names for the same emotion, for example \"ang\" or \"anger\" or \"a\" represents the same sentiment - Anger."
      ],
      "metadata": {
        "id": "b3VNJ1UGaA7C"
      }
    },
    {
      "cell_type": "code",
      "source": [
        "POSITIVE = 0\n",
        "NEUTRAL = 1\n",
        "NEGATIVE = 2\n",
        "\n",
        "def distributeEmotion(emotion):\n",
        "\n",
        "    if isinstance(emotion, str):\n",
        "      emotion = emotion.lower() # change uppercase letters to lowercase (Ex. UppeR -> upper, LOWer -> lower).\n",
        "\n",
        "    if emotion in {'ang', 'dis', 'fea', 'sad','angry' , 'anger', 'disgust', 'fear', 'fearful', 'sad', 'sadness', 4, 5, 6, 7, 'negative', 's', 'a', 'f'}:\n",
        "      return NEGATIVE\n",
        "\n",
        "    if emotion in {'neu','neutral', 'calm', 1, 2, 'n'}:\n",
        "      return NEUTRAL\n",
        "\n",
        "    if emotion in {'hap', 'happy', 'hapiness', 'ps', 'surprised', 'excited', 'encouraging', 3, 8, 'positive', 'h', 'w'}:\n",
        "      return POSITIVE\n",
        "\n",
        "    return -1\n",
        "        "
      ],
      "metadata": {
        "id": "ftxiHx_XhKPE"
      },
      "execution_count": 4,
      "outputs": []
    },
    {
      "cell_type": "markdown",
      "source": [
        "#### ***IMPORT DATASETS AUDIO PATH***\n"
      ],
      "metadata": {
        "id": "ug0CEh1UAqPM"
      }
    },
    {
      "cell_type": "code",
      "source": [
        "datasets_path = ['/content/data/MyDrive/dl/ravdess', '/content/data/MyDrive/dl/tess', '/content/data/MyDrive/dl/urdu']\n",
        "emotion = -1"
      ],
      "metadata": {
        "id": "KcEbuZ_zdeeq"
      },
      "execution_count": 5,
      "outputs": []
    },
    {
      "cell_type": "markdown",
      "source": [
        "For each dataset (RAVDESS / TESS / URDU) we import the audio file path and attach its appropriate label.\n",
        "\n",
        "* For each dataset ``ds_path``:\n",
        " * Iterate over all directories ``dirname`` in the dataset:\n",
        "    * For each audio file ``filename``: \n",
        "      1. Generate its file path (``file_path``).\n",
        "      2. Extract its label from the ``filename`` using ``split()`` sereprate symbol and fit to the appropriate label class (Possitive, Negative, Neutral) using the ``distributeEmotion()`` method.\n",
        "      3. Add (label, file path) to the DataFrame ``data``.\n"
      ],
      "metadata": {
        "id": "Uw_T-WFwgBdc"
      }
    },
    {
      "cell_type": "code",
      "source": [
        "for ds_path in datasets_path: \n",
        "  print(f'Scanning: {ds_path}')\n",
        "  for dirname, _, filenames in os.walk(ds_path): \n",
        "      for filename in filenames: \n",
        "          file_path = os.path.join('\\\\', dirname, filename)\n",
        "          \n",
        "          if ds_path == '/content/data/MyDrive/dl/ravdess':\n",
        "              identifiers = filename.split('.')[0].split('-')\n",
        "              emotion = distributeEmotion(int(identifiers[2]))\n",
        "\n",
        "          if ds_path == '/content/data/MyDrive/dl/tess':\n",
        "              identifiers = filename.split('.')[0].split('_')\n",
        "              emotion = distributeEmotion(identifiers[2])\n",
        "\n",
        "          if ds_path == '/content/data/MyDrive/dl/urdu':\n",
        "              identifiers = filename.split('.')[0].split('_')\n",
        "              emotion = distributeEmotion(dirname[10:])\n",
        "\n",
        "          if emotion != -1:\n",
        "              data = data.append( {\"Emotion\": emotion, \"Path\": file_path } , ignore_index=True)"
      ],
      "metadata": {
        "id": "6KV0CG8UApRE",
        "colab": {
          "base_uri": "https://localhost:8080/"
        },
        "outputId": "4cb3eed1-8660-4c5e-d391-ce265d749c52"
      },
      "execution_count": 6,
      "outputs": [
        {
          "output_type": "stream",
          "name": "stdout",
          "text": [
            "Scanning: /content/data/MyDrive/dl/ravdess\n",
            "Scanning: /content/data/MyDrive/dl/tess\n",
            "Scanning: /content/data/MyDrive/dl/urdu\n"
          ]
        }
      ]
    },
    {
      "cell_type": "markdown",
      "source": [
        "#### ***IMPORT SUMMARY***\n",
        "\n",
        "0. **Positive** - 1,184\n",
        "1. **Neutral** - 688\n",
        "2. **Negative** - 2,368\n",
        "\n",
        "\n",
        "***Total files*** - 4,240\n",
        "\n"
      ],
      "metadata": {
        "id": "nwptcHcLpDK1"
      }
    },
    {
      "cell_type": "code",
      "source": [
        "print(data['Emotion'].value_counts().to_markdown())"
      ],
      "metadata": {
        "colab": {
          "base_uri": "https://localhost:8080/"
        },
        "id": "nTIXHu5DBZOW",
        "outputId": "fbf2910c-1ab7-4152-84d3-d019b0390d2d"
      },
      "execution_count": 7,
      "outputs": [
        {
          "output_type": "stream",
          "name": "stdout",
          "text": [
            "|    |   Emotion |\n",
            "|---:|----------:|\n",
            "|  2 |      2368 |\n",
            "|  0 |      1184 |\n",
            "|  1 |       688 |\n"
          ]
        }
      ]
    },
    {
      "cell_type": "markdown",
      "source": [
        "## ***Wav2Vec2.0***\n",
        "---\n",
        "\n",
        "The model was developed by researchers from Facebook.AI for the speech recognition tasks. The architecture of the model is encoder-decoder. Encoding\n",
        "means converting data into a required format, and Decoding means converting a coded message into intelligible language. The encoder of the model consists of several blocks containing a temporal convolution neural network to find a representation of the raw audio data and the output of the feature encoder are fed into transformer architecture which finds the contextual representation of the feature representation. the transformers do that by the self-attention layers. the self-attention mechanism allows the inputs to interact with each other and find out to who they should pay more attention to. The model was pre-trained and fine-tuned on 960 hours of Librispeech (a collection of approximately 1,000 hours of audiobooks) on a 16k sample rate speech audio."
      ],
      "metadata": {
        "id": "UJVTBcbHGVYA"
      }
    },
    {
      "cell_type": "markdown",
      "source": [
        "* Using ``manual_seed(0)`` to control sources of randomness that can cause multiple executions of your application to behave differently. And also so that multiple calls to those operations, given the same inputs, will produce the same result.\n",
        "\n",
        "* A ``torch.device`` is an object representing the device on which a ``torch.Tensor`` is or will be allocated.\n",
        "\n",
        "* Using ``pipelines`` to import the pretrained model ``WAV2VEC2_ASR_BASE_960H``. In other words, to access the model with pretrained weights, and information/helper functions associated the pretrained weights."
      ],
      "metadata": {
        "id": "N_un52Bzg2vc"
      }
    },
    {
      "cell_type": "code",
      "source": [
        "torch.random.manual_seed(0)\n",
        "device = torch.device(\"cuda\" if torch.cuda.is_available() else \"cpu\")\n",
        "bundle = torchaudio.pipelines.WAV2VEC2_ASR_BASE_960H\n",
        "model = bundle.get_model().to(device)\n",
        "SAMPLE_RATE = 16000"
      ],
      "metadata": {
        "id": "-2KQiuHfZLRL",
        "colab": {
          "base_uri": "https://localhost:8080/",
          "height": 66,
          "referenced_widgets": [
            "737bd0d01f9b4d369f9d74e8f39d927f",
            "bc38122a2bf1409ab6c32210f2a9e6cc",
            "b535646d542240d296b53695aac10ff6",
            "a1bd084144f942aa960ae77d3ef055aa",
            "4f68a2c2459044dbb3386e74430146f8",
            "15c5cf7728f446d2957bdf91aa69f837",
            "74c3990c8b7e4fc49785c30a1cbfc0eb",
            "a7c74b3b2983456086aa211f389ae548",
            "991e294da5894ee0a04753021b041936",
            "f6f85965184a4de4a597d5b3ec2b52fe",
            "03b5c4b1fdfc443fac5aa08ff2b2e134"
          ]
        },
        "outputId": "d95a77fe-d4a1-4684-ae84-1520932af785"
      },
      "execution_count": null,
      "outputs": [
        {
          "output_type": "stream",
          "name": "stderr",
          "text": [
            "Downloading: \"https://download.pytorch.org/torchaudio/models/wav2vec2_fairseq_base_ls960_asr_ls960.pth\" to /root/.cache/torch/hub/checkpoints/wav2vec2_fairseq_base_ls960_asr_ls960.pth\n"
          ]
        },
        {
          "output_type": "display_data",
          "data": {
            "text/plain": [
              "  0%|          | 0.00/360M [00:00<?, ?B/s]"
            ],
            "application/vnd.jupyter.widget-view+json": {
              "version_major": 2,
              "version_minor": 0,
              "model_id": "737bd0d01f9b4d369f9d74e8f39d927f"
            }
          },
          "metadata": {}
        }
      ]
    },
    {
      "cell_type": "markdown",
      "source": [
        "## ***SAMPLE & NORMALIZATION***\n",
        "---"
      ],
      "metadata": {
        "id": "S9GlEW1YBU8E"
      }
    },
    {
      "cell_type": "markdown",
      "source": [
        "***Normalization***\n",
        "\n",
        "First of all, why do we need normalization feature scaling? - Having features on a similar scale can help the gradient descent converge more quickly towards the minima. We are using normalization for the output features of the Wav2Vec2 pretrained model.\n",
        "\n",
        "\n",
        "***Definition***\n",
        "\n",
        "Let $max$ be the greatest value and $min$ be the lowest value from a set of features $F$.\n",
        "\n",
        "Each feature value $1\\leq i\\leq|F|$ is bounded between $[-1, 1]$ using the following formula:\n",
        "\n",
        "$$ F[i] = \\frac{2\\cdot(F[i]-max)}{max-min}  + 1$$\n"
      ],
      "metadata": {
        "id": "svDx6IXvi3lf"
      }
    },
    {
      "cell_type": "code",
      "source": [
        "def normalize_features(features):\n",
        "    for i in range(len(features[0])):\n",
        "        mlist = features[0][i]\n",
        "        features[0][i] = 2 * (mlist - np.max(mlist)) / (np.max(mlist) - np.min(mlist)) + 1"
      ],
      "metadata": {
        "id": "oMwEplwzBmpo"
      },
      "execution_count": null,
      "outputs": []
    },
    {
      "cell_type": "markdown",
      "source": [
        "***Resample Padding Method***\n",
        "\n",
        "Each audio file we used in the project is approximately 2 to 3 seconds long.\n",
        "Since the model architecture works with fixed input size, we decided that each recording would contain exactly 48,000 samples (3 seconds long, 16k samples in a second). Since there are recordings shorter than 3 seconds, we had to fill in the missing samples by selecting random samples from the recording. This method fairly preserves the imagery of the voice.\n",
        "\n",
        "![Untitled.png](data:image/png;base64,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)\n"
      ],
      "metadata": {
        "id": "np_ATz7EkTdm"
      }
    },
    {
      "cell_type": "markdown",
      "source": [
        "* ``torchaudio`` loads each audio file (path) with 48,000 samples (16,000 * 3).\n",
        "\n",
        "* We use ``detach()`` because we don't need a tensor to be traced for the gradient computation, we detach the tensor from the current computational graph.\n",
        "\n",
        "* Using ``numpy()`` to enable actions such as padding new values.\n",
        "\n",
        "\n",
        "About the resample padding method:\n",
        "\n",
        "1. Creating ``signal`` - a numpy list of 48,000 zero values.\n",
        "2. Loading the audio file using ``torch.load()`` - it returns ``waveform`` which is a list of samples.\n",
        "3. If the audio length is between 2~3 seconds then:\n",
        "  *   Fill all the samples to the ``signal`` list.\n",
        "  *   If the audio length is less than 3 seconds (If there is more to fill) then use the ``resample_padding()`` method:\n",
        "    * We calculate the ``rest`` which is the padding length.\n",
        "    * We need to choose random values from the audio file and put it in the empty sampled cells. We don't want to choose zero values, so ``filled_list`` list contains non-zero values only to be chosen. \n",
        "    * Choose randomly k values from the ``filled_list`` using the ``random.choices()`` method.\n",
        "\n"
      ],
      "metadata": {
        "id": "YHzt81Kklqst"
      }
    },
    {
      "cell_type": "code",
      "source": [
        "def resample_padding(signal, sampling_rate):\n",
        "    rest = 48000 - sampling_rate # get the number of values to pad\n",
        "    filled_list = signal[:sampling_rate] # we don't want to choose zero values, so this list contains non-zero values only.\n",
        "    signal[sampling_rate:] = random.choices(filled_list, k=rest) # choose randomly k values from the filled_list\n",
        "  \n",
        "def load_audio(path): \n",
        "    signal = np.zeros((int(SAMPLE_RATE*3 ,)))\n",
        "  \n",
        "    waveform, sampling_rate = torchaudio.load(filepath=path, num_frames= SAMPLE_RATE * 3)\n",
        "    waveform = waveform.detach().cpu().numpy()[0]\n",
        "    waveform_length = len(waveform)\n",
        "\n",
        "    if waveform_length >= 32000 and waveform_length <= 48000: # if the audio length is between 2 to 3 seconds:\n",
        "        signal[:waveform_length] = waveform # fill all samples \n",
        "\n",
        "        if sampling_rate < 48000: # if there is more to fill (less than 3 seconds):\n",
        "            resample_padding(signal, sampling_rate)\n",
        "          \n",
        "        signal_final = np.array([np.array(signal)]) # bring it back to list of lists form before convert back to tensor.\n",
        "        signal_final = torch.from_numpy(signal_final).to(device) # convert back to tensor from numpy\n",
        "        signal_final = signal_final.type(torch.cuda.FloatTensor).to(device) # Tensor containing elements of a single data type (FloatTensor).\n",
        "\n",
        "        return signal_final\n",
        "\n",
        "    return -1"
      ],
      "metadata": {
        "id": "Ub2-T99aO0WR"
      },
      "execution_count": null,
      "outputs": []
    },
    {
      "cell_type": "markdown",
      "source": [
        "# **SAMPLE DATA**\n",
        "---\n",
        "Each sample shape is (1, 149, 32)\n",
        "\n",
        "For each audio file (file_path), we use ``load_audio(file_path)`` which returns a ``torch.Tensor`` containing this audio samples. \n",
        "\n",
        "If ``tor`` is successful (is a ``torch.Tensor`` type) then we'll use the pretrained model (Wav2Vec) that provides method to perform the feature extraction and classification in one step so it will return the features (``emission``).\n",
        "\n",
        "We then normalize the features using ``normalize_features()`` method.\n",
        "\n",
        "* ``torch.inference_mode()`` - Context-manager that disabled gradient calculation. \n",
        "  * Disabling gradient calculation is useful for inference, when you are sure that you will not call ``Tensor.backward()``. \n",
        "  * We use it to make sure there's no leak test data into the model. In other word, it prevents the weight update step to be added to the computational graph of the neural network which is not desired.\n",
        "  * It will reduce the memory usage and speed up computations.\n",
        "  * It differs from ``no_grad()`` because it doesn't throw a runtime error."
      ],
      "metadata": {
        "id": "mA9aJZZtBohm"
      }
    },
    {
      "cell_type": "code",
      "source": [
        "signals = []\n",
        "total_data = len(data)\n",
        "\n",
        "with torch.inference_mode():\n",
        "    for i, file_path in enumerate(data.Path):\n",
        "        tor = load_audio(file_path)\n",
        "\n",
        "        if isinstance(tor, torch.Tensor):\n",
        "            emission, _ = model(tor)\n",
        "            features = emission.detach().cpu().numpy()\n",
        "            normalize_features(features)\n",
        "            row = (file_path, features, data.iloc[i]['Emotion'])\n",
        "            signals.append(row)\n",
        "\n",
        "        percent = (len(signals) / total_data) * 100\n",
        "        print(\"\\r Processed {}/{} files. ({}%) \".format(len(signals), total_data, round(percent, 1)), end='')\n"
      ],
      "metadata": {
        "colab": {
          "base_uri": "https://localhost:8080/"
        },
        "id": "u7GkyWe9B4MU",
        "outputId": "6c466cf2-3183-4230-89e8-02a0b011f675"
      },
      "execution_count": null,
      "outputs": [
        {
          "output_type": "stream",
          "name": "stdout",
          "text": [
            " Processed 4239/4240 files. (100.0%) "
          ]
        }
      ]
    },
    {
      "cell_type": "markdown",
      "source": [
        "# **SAVE DATA**\n",
        "\n",
        "---\n",
        "\n"
      ],
      "metadata": {
        "id": "4cjP-RpHB56x"
      }
    },
    {
      "cell_type": "code",
      "source": [
        "counter = [0, 0, 0]\n",
        "\n",
        "for tup in signals:\n",
        "  counter[tup[2]] += 1\n",
        "\n",
        "print(counter)"
      ],
      "metadata": {
        "id": "UfIF8PgeZZRI",
        "outputId": "0f30c1ef-f84c-4689-e74a-31f3b7b1d327",
        "colab": {
          "base_uri": "https://localhost:8080/"
        }
      },
      "execution_count": null,
      "outputs": [
        {
          "output_type": "stream",
          "name": "stdout",
          "text": [
            "[1184, 688, 2367]\n"
          ]
        }
      ]
    },
    {
      "cell_type": "markdown",
      "source": [
        "![Class Distribution.png](data:image/png;base64,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)"
      ],
      "metadata": {
        "id": "n-0OJdM1wpOP"
      }
    },
    {
      "cell_type": "code",
      "source": [
        "file_pth = open('/content/dataset444.pth', 'wb')\n",
        "pickle.dump(signals, file_pth)"
      ],
      "metadata": {
        "id": "UG_kipMoB8Yh"
      },
      "execution_count": null,
      "outputs": []
    }
  ]
}